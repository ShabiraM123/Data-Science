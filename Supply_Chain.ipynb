{
  "nbformat": 4,
  "nbformat_minor": 0,
  "metadata": {
    "colab": {
      "provenance": [],
      "toc_visible": true
    },
    "kernelspec": {
      "name": "python3",
      "display_name": "Python 3"
    },
    "language_info": {
      "name": "python"
    }
  },
  "cells": [
    {
      "cell_type": "code",
      "execution_count": 1,
      "metadata": {
        "id": "beHqKT2ebQ1o"
      },
      "outputs": [],
      "source": [
        "import numpy as np\n",
        "import matplotlib.pyplot as plt\n",
        "import pandas as pd"
      ]
    },
    {
      "cell_type": "code",
      "source": [
        "df=pd.read_csv('supply_train.csv')"
      ],
      "metadata": {
        "id": "PaV6ycYbc7R3"
      },
      "execution_count": 2,
      "outputs": []
    },
    {
      "cell_type": "code",
      "source": [
        "df.head(10)"
      ],
      "metadata": {
        "colab": {
          "base_uri": "https://localhost:8080/",
          "height": 429
        },
        "id": "PfCFh9-mdnmK",
        "outputId": "a38f90ce-9294-436b-f89e-4f50596f597a"
      },
      "execution_count": 3,
      "outputs": [
        {
          "output_type": "execute_result",
          "data": {
            "text/plain": [
              "   Unnamed: 0 Ware_house_ID WH_Manager_ID Location_type WH_capacity_size  \\\n",
              "0           0     WH_100000     EID_50000         Urban            Small   \n",
              "1           1     WH_100001     EID_50001         Rural            Large   \n",
              "2           2     WH_100002     EID_50002         Rural              Mid   \n",
              "3           3     WH_100003     EID_50003         Rural              Mid   \n",
              "4           4     WH_100004     EID_50004         Rural            Large   \n",
              "5           5     WH_100005     EID_50005         Rural            Small   \n",
              "6           6     WH_100006     EID_50006         Rural            Large   \n",
              "7           7     WH_100007     EID_50007         Rural            Large   \n",
              "8           8     WH_100008     EID_50008         Rural            Small   \n",
              "9           9     WH_100009     EID_50009         Rural            Small   \n",
              "\n",
              "    zone WH_regional_zone  num_refill_req_l3m  transport_issue_l1y  \\\n",
              "0   West           Zone 6                   3                    1   \n",
              "1  North           Zone 5                   0                    0   \n",
              "2  South           Zone 2                   1                    0   \n",
              "3  North           Zone 3                   7                    4   \n",
              "4  North           Zone 5                   3                    1   \n",
              "5   West           Zone 1                   8                    0   \n",
              "6   West           Zone 6                   8                    0   \n",
              "7  North           Zone 5                   1                    0   \n",
              "8  South           Zone 6                   8                    1   \n",
              "9  South           Zone 6                   4                    3   \n",
              "\n",
              "   Competitor_in_mkt  ...  electric_supply dist_from_hub  workers_num  \\\n",
              "0                  2  ...                1            91         29.0   \n",
              "1                  4  ...                1           210         31.0   \n",
              "2                  4  ...                0           161         37.0   \n",
              "3                  2  ...                0           103         21.0   \n",
              "4                  2  ...                1           112         25.0   \n",
              "5                  2  ...                1           152         35.0   \n",
              "6                  4  ...                1            77         27.0   \n",
              "7                  4  ...                0           241         23.0   \n",
              "8                  4  ...                1           124         22.0   \n",
              "9                  3  ...                0            78         43.0   \n",
              "\n",
              "   wh_est_year  storage_issue_reported_l3m  temp_reg_mach  \\\n",
              "0          NaN                          13              0   \n",
              "1          NaN                           4              0   \n",
              "2          NaN                          17              0   \n",
              "3          NaN                          17              1   \n",
              "4       2009.0                          18              0   \n",
              "5       2009.0                          23              1   \n",
              "6       2010.0                          24              0   \n",
              "7          NaN                          18              0   \n",
              "8       2013.0                          13              1   \n",
              "9          NaN                           6              0   \n",
              "\n",
              "   approved_wh_govt_certificate  wh_breakdown_l3m  govt_check_l3m  \\\n",
              "0                             A                 5              15   \n",
              "1                             A                 3              17   \n",
              "2                             A                 6              22   \n",
              "3                            A+                 3              27   \n",
              "4                             C                 6              24   \n",
              "5                            A+                 3               3   \n",
              "6                             B                 3               6   \n",
              "7                             C                 6              24   \n",
              "8                            A+                 5               2   \n",
              "9                             C                 6               2   \n",
              "\n",
              "   product_wg_ton  \n",
              "0           17115  \n",
              "1            5074  \n",
              "2           23137  \n",
              "3           22115  \n",
              "4           24071  \n",
              "5           32134  \n",
              "6           30142  \n",
              "7           24093  \n",
              "8           18082  \n",
              "9            7130  \n",
              "\n",
              "[10 rows x 25 columns]"
            ],
            "text/html": [
              "\n",
              "  <div id=\"df-8fdcf04a-f14f-445b-ba73-3b7a147ee202\" class=\"colab-df-container\">\n",
              "    <div>\n",
              "<style scoped>\n",
              "    .dataframe tbody tr th:only-of-type {\n",
              "        vertical-align: middle;\n",
              "    }\n",
              "\n",
              "    .dataframe tbody tr th {\n",
              "        vertical-align: top;\n",
              "    }\n",
              "\n",
              "    .dataframe thead th {\n",
              "        text-align: right;\n",
              "    }\n",
              "</style>\n",
              "<table border=\"1\" class=\"dataframe\">\n",
              "  <thead>\n",
              "    <tr style=\"text-align: right;\">\n",
              "      <th></th>\n",
              "      <th>Unnamed: 0</th>\n",
              "      <th>Ware_house_ID</th>\n",
              "      <th>WH_Manager_ID</th>\n",
              "      <th>Location_type</th>\n",
              "      <th>WH_capacity_size</th>\n",
              "      <th>zone</th>\n",
              "      <th>WH_regional_zone</th>\n",
              "      <th>num_refill_req_l3m</th>\n",
              "      <th>transport_issue_l1y</th>\n",
              "      <th>Competitor_in_mkt</th>\n",
              "      <th>...</th>\n",
              "      <th>electric_supply</th>\n",
              "      <th>dist_from_hub</th>\n",
              "      <th>workers_num</th>\n",
              "      <th>wh_est_year</th>\n",
              "      <th>storage_issue_reported_l3m</th>\n",
              "      <th>temp_reg_mach</th>\n",
              "      <th>approved_wh_govt_certificate</th>\n",
              "      <th>wh_breakdown_l3m</th>\n",
              "      <th>govt_check_l3m</th>\n",
              "      <th>product_wg_ton</th>\n",
              "    </tr>\n",
              "  </thead>\n",
              "  <tbody>\n",
              "    <tr>\n",
              "      <th>0</th>\n",
              "      <td>0</td>\n",
              "      <td>WH_100000</td>\n",
              "      <td>EID_50000</td>\n",
              "      <td>Urban</td>\n",
              "      <td>Small</td>\n",
              "      <td>West</td>\n",
              "      <td>Zone 6</td>\n",
              "      <td>3</td>\n",
              "      <td>1</td>\n",
              "      <td>2</td>\n",
              "      <td>...</td>\n",
              "      <td>1</td>\n",
              "      <td>91</td>\n",
              "      <td>29.0</td>\n",
              "      <td>NaN</td>\n",
              "      <td>13</td>\n",
              "      <td>0</td>\n",
              "      <td>A</td>\n",
              "      <td>5</td>\n",
              "      <td>15</td>\n",
              "      <td>17115</td>\n",
              "    </tr>\n",
              "    <tr>\n",
              "      <th>1</th>\n",
              "      <td>1</td>\n",
              "      <td>WH_100001</td>\n",
              "      <td>EID_50001</td>\n",
              "      <td>Rural</td>\n",
              "      <td>Large</td>\n",
              "      <td>North</td>\n",
              "      <td>Zone 5</td>\n",
              "      <td>0</td>\n",
              "      <td>0</td>\n",
              "      <td>4</td>\n",
              "      <td>...</td>\n",
              "      <td>1</td>\n",
              "      <td>210</td>\n",
              "      <td>31.0</td>\n",
              "      <td>NaN</td>\n",
              "      <td>4</td>\n",
              "      <td>0</td>\n",
              "      <td>A</td>\n",
              "      <td>3</td>\n",
              "      <td>17</td>\n",
              "      <td>5074</td>\n",
              "    </tr>\n",
              "    <tr>\n",
              "      <th>2</th>\n",
              "      <td>2</td>\n",
              "      <td>WH_100002</td>\n",
              "      <td>EID_50002</td>\n",
              "      <td>Rural</td>\n",
              "      <td>Mid</td>\n",
              "      <td>South</td>\n",
              "      <td>Zone 2</td>\n",
              "      <td>1</td>\n",
              "      <td>0</td>\n",
              "      <td>4</td>\n",
              "      <td>...</td>\n",
              "      <td>0</td>\n",
              "      <td>161</td>\n",
              "      <td>37.0</td>\n",
              "      <td>NaN</td>\n",
              "      <td>17</td>\n",
              "      <td>0</td>\n",
              "      <td>A</td>\n",
              "      <td>6</td>\n",
              "      <td>22</td>\n",
              "      <td>23137</td>\n",
              "    </tr>\n",
              "    <tr>\n",
              "      <th>3</th>\n",
              "      <td>3</td>\n",
              "      <td>WH_100003</td>\n",
              "      <td>EID_50003</td>\n",
              "      <td>Rural</td>\n",
              "      <td>Mid</td>\n",
              "      <td>North</td>\n",
              "      <td>Zone 3</td>\n",
              "      <td>7</td>\n",
              "      <td>4</td>\n",
              "      <td>2</td>\n",
              "      <td>...</td>\n",
              "      <td>0</td>\n",
              "      <td>103</td>\n",
              "      <td>21.0</td>\n",
              "      <td>NaN</td>\n",
              "      <td>17</td>\n",
              "      <td>1</td>\n",
              "      <td>A+</td>\n",
              "      <td>3</td>\n",
              "      <td>27</td>\n",
              "      <td>22115</td>\n",
              "    </tr>\n",
              "    <tr>\n",
              "      <th>4</th>\n",
              "      <td>4</td>\n",
              "      <td>WH_100004</td>\n",
              "      <td>EID_50004</td>\n",
              "      <td>Rural</td>\n",
              "      <td>Large</td>\n",
              "      <td>North</td>\n",
              "      <td>Zone 5</td>\n",
              "      <td>3</td>\n",
              "      <td>1</td>\n",
              "      <td>2</td>\n",
              "      <td>...</td>\n",
              "      <td>1</td>\n",
              "      <td>112</td>\n",
              "      <td>25.0</td>\n",
              "      <td>2009.0</td>\n",
              "      <td>18</td>\n",
              "      <td>0</td>\n",
              "      <td>C</td>\n",
              "      <td>6</td>\n",
              "      <td>24</td>\n",
              "      <td>24071</td>\n",
              "    </tr>\n",
              "    <tr>\n",
              "      <th>5</th>\n",
              "      <td>5</td>\n",
              "      <td>WH_100005</td>\n",
              "      <td>EID_50005</td>\n",
              "      <td>Rural</td>\n",
              "      <td>Small</td>\n",
              "      <td>West</td>\n",
              "      <td>Zone 1</td>\n",
              "      <td>8</td>\n",
              "      <td>0</td>\n",
              "      <td>2</td>\n",
              "      <td>...</td>\n",
              "      <td>1</td>\n",
              "      <td>152</td>\n",
              "      <td>35.0</td>\n",
              "      <td>2009.0</td>\n",
              "      <td>23</td>\n",
              "      <td>1</td>\n",
              "      <td>A+</td>\n",
              "      <td>3</td>\n",
              "      <td>3</td>\n",
              "      <td>32134</td>\n",
              "    </tr>\n",
              "    <tr>\n",
              "      <th>6</th>\n",
              "      <td>6</td>\n",
              "      <td>WH_100006</td>\n",
              "      <td>EID_50006</td>\n",
              "      <td>Rural</td>\n",
              "      <td>Large</td>\n",
              "      <td>West</td>\n",
              "      <td>Zone 6</td>\n",
              "      <td>8</td>\n",
              "      <td>0</td>\n",
              "      <td>4</td>\n",
              "      <td>...</td>\n",
              "      <td>1</td>\n",
              "      <td>77</td>\n",
              "      <td>27.0</td>\n",
              "      <td>2010.0</td>\n",
              "      <td>24</td>\n",
              "      <td>0</td>\n",
              "      <td>B</td>\n",
              "      <td>3</td>\n",
              "      <td>6</td>\n",
              "      <td>30142</td>\n",
              "    </tr>\n",
              "    <tr>\n",
              "      <th>7</th>\n",
              "      <td>7</td>\n",
              "      <td>WH_100007</td>\n",
              "      <td>EID_50007</td>\n",
              "      <td>Rural</td>\n",
              "      <td>Large</td>\n",
              "      <td>North</td>\n",
              "      <td>Zone 5</td>\n",
              "      <td>1</td>\n",
              "      <td>0</td>\n",
              "      <td>4</td>\n",
              "      <td>...</td>\n",
              "      <td>0</td>\n",
              "      <td>241</td>\n",
              "      <td>23.0</td>\n",
              "      <td>NaN</td>\n",
              "      <td>18</td>\n",
              "      <td>0</td>\n",
              "      <td>C</td>\n",
              "      <td>6</td>\n",
              "      <td>24</td>\n",
              "      <td>24093</td>\n",
              "    </tr>\n",
              "    <tr>\n",
              "      <th>8</th>\n",
              "      <td>8</td>\n",
              "      <td>WH_100008</td>\n",
              "      <td>EID_50008</td>\n",
              "      <td>Rural</td>\n",
              "      <td>Small</td>\n",
              "      <td>South</td>\n",
              "      <td>Zone 6</td>\n",
              "      <td>8</td>\n",
              "      <td>1</td>\n",
              "      <td>4</td>\n",
              "      <td>...</td>\n",
              "      <td>1</td>\n",
              "      <td>124</td>\n",
              "      <td>22.0</td>\n",
              "      <td>2013.0</td>\n",
              "      <td>13</td>\n",
              "      <td>1</td>\n",
              "      <td>A+</td>\n",
              "      <td>5</td>\n",
              "      <td>2</td>\n",
              "      <td>18082</td>\n",
              "    </tr>\n",
              "    <tr>\n",
              "      <th>9</th>\n",
              "      <td>9</td>\n",
              "      <td>WH_100009</td>\n",
              "      <td>EID_50009</td>\n",
              "      <td>Rural</td>\n",
              "      <td>Small</td>\n",
              "      <td>South</td>\n",
              "      <td>Zone 6</td>\n",
              "      <td>4</td>\n",
              "      <td>3</td>\n",
              "      <td>3</td>\n",
              "      <td>...</td>\n",
              "      <td>0</td>\n",
              "      <td>78</td>\n",
              "      <td>43.0</td>\n",
              "      <td>NaN</td>\n",
              "      <td>6</td>\n",
              "      <td>0</td>\n",
              "      <td>C</td>\n",
              "      <td>6</td>\n",
              "      <td>2</td>\n",
              "      <td>7130</td>\n",
              "    </tr>\n",
              "  </tbody>\n",
              "</table>\n",
              "<p>10 rows × 25 columns</p>\n",
              "</div>\n",
              "    <div class=\"colab-df-buttons\">\n",
              "\n",
              "  <div class=\"colab-df-container\">\n",
              "    <button class=\"colab-df-convert\" onclick=\"convertToInteractive('df-8fdcf04a-f14f-445b-ba73-3b7a147ee202')\"\n",
              "            title=\"Convert this dataframe to an interactive table.\"\n",
              "            style=\"display:none;\">\n",
              "\n",
              "  <svg xmlns=\"http://www.w3.org/2000/svg\" height=\"24px\" viewBox=\"0 -960 960 960\">\n",
              "    <path d=\"M120-120v-720h720v720H120Zm60-500h600v-160H180v160Zm220 220h160v-160H400v160Zm0 220h160v-160H400v160ZM180-400h160v-160H180v160Zm440 0h160v-160H620v160ZM180-180h160v-160H180v160Zm440 0h160v-160H620v160Z\"/>\n",
              "  </svg>\n",
              "    </button>\n",
              "\n",
              "  <style>\n",
              "    .colab-df-container {\n",
              "      display:flex;\n",
              "      gap: 12px;\n",
              "    }\n",
              "\n",
              "    .colab-df-convert {\n",
              "      background-color: #E8F0FE;\n",
              "      border: none;\n",
              "      border-radius: 50%;\n",
              "      cursor: pointer;\n",
              "      display: none;\n",
              "      fill: #1967D2;\n",
              "      height: 32px;\n",
              "      padding: 0 0 0 0;\n",
              "      width: 32px;\n",
              "    }\n",
              "\n",
              "    .colab-df-convert:hover {\n",
              "      background-color: #E2EBFA;\n",
              "      box-shadow: 0px 1px 2px rgba(60, 64, 67, 0.3), 0px 1px 3px 1px rgba(60, 64, 67, 0.15);\n",
              "      fill: #174EA6;\n",
              "    }\n",
              "\n",
              "    .colab-df-buttons div {\n",
              "      margin-bottom: 4px;\n",
              "    }\n",
              "\n",
              "    [theme=dark] .colab-df-convert {\n",
              "      background-color: #3B4455;\n",
              "      fill: #D2E3FC;\n",
              "    }\n",
              "\n",
              "    [theme=dark] .colab-df-convert:hover {\n",
              "      background-color: #434B5C;\n",
              "      box-shadow: 0px 1px 3px 1px rgba(0, 0, 0, 0.15);\n",
              "      filter: drop-shadow(0px 1px 2px rgba(0, 0, 0, 0.3));\n",
              "      fill: #FFFFFF;\n",
              "    }\n",
              "  </style>\n",
              "\n",
              "    <script>\n",
              "      const buttonEl =\n",
              "        document.querySelector('#df-8fdcf04a-f14f-445b-ba73-3b7a147ee202 button.colab-df-convert');\n",
              "      buttonEl.style.display =\n",
              "        google.colab.kernel.accessAllowed ? 'block' : 'none';\n",
              "\n",
              "      async function convertToInteractive(key) {\n",
              "        const element = document.querySelector('#df-8fdcf04a-f14f-445b-ba73-3b7a147ee202');\n",
              "        const dataTable =\n",
              "          await google.colab.kernel.invokeFunction('convertToInteractive',\n",
              "                                                    [key], {});\n",
              "        if (!dataTable) return;\n",
              "\n",
              "        const docLinkHtml = 'Like what you see? Visit the ' +\n",
              "          '<a target=\"_blank\" href=https://colab.research.google.com/notebooks/data_table.ipynb>data table notebook</a>'\n",
              "          + ' to learn more about interactive tables.';\n",
              "        element.innerHTML = '';\n",
              "        dataTable['output_type'] = 'display_data';\n",
              "        await google.colab.output.renderOutput(dataTable, element);\n",
              "        const docLink = document.createElement('div');\n",
              "        docLink.innerHTML = docLinkHtml;\n",
              "        element.appendChild(docLink);\n",
              "      }\n",
              "    </script>\n",
              "  </div>\n",
              "\n",
              "\n",
              "<div id=\"df-b75092d9-c26a-4c90-b736-eed3a5078bf1\">\n",
              "  <button class=\"colab-df-quickchart\" onclick=\"quickchart('df-b75092d9-c26a-4c90-b736-eed3a5078bf1')\"\n",
              "            title=\"Suggest charts\"\n",
              "            style=\"display:none;\">\n",
              "\n",
              "<svg xmlns=\"http://www.w3.org/2000/svg\" height=\"24px\"viewBox=\"0 0 24 24\"\n",
              "     width=\"24px\">\n",
              "    <g>\n",
              "        <path d=\"M19 3H5c-1.1 0-2 .9-2 2v14c0 1.1.9 2 2 2h14c1.1 0 2-.9 2-2V5c0-1.1-.9-2-2-2zM9 17H7v-7h2v7zm4 0h-2V7h2v10zm4 0h-2v-4h2v4z\"/>\n",
              "    </g>\n",
              "</svg>\n",
              "  </button>\n",
              "\n",
              "<style>\n",
              "  .colab-df-quickchart {\n",
              "      --bg-color: #E8F0FE;\n",
              "      --fill-color: #1967D2;\n",
              "      --hover-bg-color: #E2EBFA;\n",
              "      --hover-fill-color: #174EA6;\n",
              "      --disabled-fill-color: #AAA;\n",
              "      --disabled-bg-color: #DDD;\n",
              "  }\n",
              "\n",
              "  [theme=dark] .colab-df-quickchart {\n",
              "      --bg-color: #3B4455;\n",
              "      --fill-color: #D2E3FC;\n",
              "      --hover-bg-color: #434B5C;\n",
              "      --hover-fill-color: #FFFFFF;\n",
              "      --disabled-bg-color: #3B4455;\n",
              "      --disabled-fill-color: #666;\n",
              "  }\n",
              "\n",
              "  .colab-df-quickchart {\n",
              "    background-color: var(--bg-color);\n",
              "    border: none;\n",
              "    border-radius: 50%;\n",
              "    cursor: pointer;\n",
              "    display: none;\n",
              "    fill: var(--fill-color);\n",
              "    height: 32px;\n",
              "    padding: 0;\n",
              "    width: 32px;\n",
              "  }\n",
              "\n",
              "  .colab-df-quickchart:hover {\n",
              "    background-color: var(--hover-bg-color);\n",
              "    box-shadow: 0 1px 2px rgba(60, 64, 67, 0.3), 0 1px 3px 1px rgba(60, 64, 67, 0.15);\n",
              "    fill: var(--button-hover-fill-color);\n",
              "  }\n",
              "\n",
              "  .colab-df-quickchart-complete:disabled,\n",
              "  .colab-df-quickchart-complete:disabled:hover {\n",
              "    background-color: var(--disabled-bg-color);\n",
              "    fill: var(--disabled-fill-color);\n",
              "    box-shadow: none;\n",
              "  }\n",
              "\n",
              "  .colab-df-spinner {\n",
              "    border: 2px solid var(--fill-color);\n",
              "    border-color: transparent;\n",
              "    border-bottom-color: var(--fill-color);\n",
              "    animation:\n",
              "      spin 1s steps(1) infinite;\n",
              "  }\n",
              "\n",
              "  @keyframes spin {\n",
              "    0% {\n",
              "      border-color: transparent;\n",
              "      border-bottom-color: var(--fill-color);\n",
              "      border-left-color: var(--fill-color);\n",
              "    }\n",
              "    20% {\n",
              "      border-color: transparent;\n",
              "      border-left-color: var(--fill-color);\n",
              "      border-top-color: var(--fill-color);\n",
              "    }\n",
              "    30% {\n",
              "      border-color: transparent;\n",
              "      border-left-color: var(--fill-color);\n",
              "      border-top-color: var(--fill-color);\n",
              "      border-right-color: var(--fill-color);\n",
              "    }\n",
              "    40% {\n",
              "      border-color: transparent;\n",
              "      border-right-color: var(--fill-color);\n",
              "      border-top-color: var(--fill-color);\n",
              "    }\n",
              "    60% {\n",
              "      border-color: transparent;\n",
              "      border-right-color: var(--fill-color);\n",
              "    }\n",
              "    80% {\n",
              "      border-color: transparent;\n",
              "      border-right-color: var(--fill-color);\n",
              "      border-bottom-color: var(--fill-color);\n",
              "    }\n",
              "    90% {\n",
              "      border-color: transparent;\n",
              "      border-bottom-color: var(--fill-color);\n",
              "    }\n",
              "  }\n",
              "</style>\n",
              "\n",
              "  <script>\n",
              "    async function quickchart(key) {\n",
              "      const quickchartButtonEl =\n",
              "        document.querySelector('#' + key + ' button');\n",
              "      quickchartButtonEl.disabled = true;  // To prevent multiple clicks.\n",
              "      quickchartButtonEl.classList.add('colab-df-spinner');\n",
              "      try {\n",
              "        const charts = await google.colab.kernel.invokeFunction(\n",
              "            'suggestCharts', [key], {});\n",
              "      } catch (error) {\n",
              "        console.error('Error during call to suggestCharts:', error);\n",
              "      }\n",
              "      quickchartButtonEl.classList.remove('colab-df-spinner');\n",
              "      quickchartButtonEl.classList.add('colab-df-quickchart-complete');\n",
              "    }\n",
              "    (() => {\n",
              "      let quickchartButtonEl =\n",
              "        document.querySelector('#df-b75092d9-c26a-4c90-b736-eed3a5078bf1 button');\n",
              "      quickchartButtonEl.style.display =\n",
              "        google.colab.kernel.accessAllowed ? 'block' : 'none';\n",
              "    })();\n",
              "  </script>\n",
              "</div>\n",
              "\n",
              "    </div>\n",
              "  </div>\n"
            ]
          },
          "metadata": {},
          "execution_count": 3
        }
      ]
    },
    {
      "cell_type": "code",
      "source": [
        "df.shape"
      ],
      "metadata": {
        "colab": {
          "base_uri": "https://localhost:8080/"
        },
        "id": "rz3LBg3gdvId",
        "outputId": "74e9d367-2fa4-4bfd-91f2-4ea34c403e4f"
      },
      "execution_count": 4,
      "outputs": [
        {
          "output_type": "execute_result",
          "data": {
            "text/plain": [
              "(16620, 25)"
            ]
          },
          "metadata": {},
          "execution_count": 4
        }
      ]
    },
    {
      "cell_type": "code",
      "source": [
        "type(df)"
      ],
      "metadata": {
        "colab": {
          "base_uri": "https://localhost:8080/"
        },
        "id": "kSucdUcQd3Yz",
        "outputId": "bed6b114-1b1d-438f-8ba1-a5f111f7b438"
      },
      "execution_count": 5,
      "outputs": [
        {
          "output_type": "execute_result",
          "data": {
            "text/plain": [
              "pandas.core.frame.DataFrame"
            ]
          },
          "metadata": {},
          "execution_count": 5
        }
      ]
    },
    {
      "cell_type": "code",
      "source": [
        "df.info()"
      ],
      "metadata": {
        "colab": {
          "base_uri": "https://localhost:8080/"
        },
        "id": "J9yxeo8Cd9Uj",
        "outputId": "3c22d594-81f6-4715-89dc-843b9340fff8"
      },
      "execution_count": 6,
      "outputs": [
        {
          "output_type": "stream",
          "name": "stdout",
          "text": [
            "<class 'pandas.core.frame.DataFrame'>\n",
            "RangeIndex: 16620 entries, 0 to 16619\n",
            "Data columns (total 25 columns):\n",
            " #   Column                        Non-Null Count  Dtype  \n",
            "---  ------                        --------------  -----  \n",
            " 0   Unnamed: 0                    16620 non-null  int64  \n",
            " 1   Ware_house_ID                 16620 non-null  object \n",
            " 2   WH_Manager_ID                 16620 non-null  object \n",
            " 3   Location_type                 16620 non-null  object \n",
            " 4   WH_capacity_size              16620 non-null  object \n",
            " 5   zone                          16620 non-null  object \n",
            " 6   WH_regional_zone              16620 non-null  object \n",
            " 7   num_refill_req_l3m            16620 non-null  int64  \n",
            " 8   transport_issue_l1y           16620 non-null  int64  \n",
            " 9   Competitor_in_mkt             16620 non-null  int64  \n",
            " 10  retail_shop_num               16620 non-null  int64  \n",
            " 11  wh_owner_type                 16620 non-null  object \n",
            " 12  distributor_num               16620 non-null  int64  \n",
            " 13  flood_impacted                16620 non-null  int64  \n",
            " 14  flood_proof                   16620 non-null  int64  \n",
            " 15  electric_supply               16620 non-null  int64  \n",
            " 16  dist_from_hub                 16620 non-null  int64  \n",
            " 17  workers_num                   15953 non-null  float64\n",
            " 18  wh_est_year                   8760 non-null   float64\n",
            " 19  storage_issue_reported_l3m    16620 non-null  int64  \n",
            " 20  temp_reg_mach                 16620 non-null  int64  \n",
            " 21  approved_wh_govt_certificate  16021 non-null  object \n",
            " 22  wh_breakdown_l3m              16620 non-null  int64  \n",
            " 23  govt_check_l3m                16620 non-null  int64  \n",
            " 24  product_wg_ton                16620 non-null  int64  \n",
            "dtypes: float64(2), int64(15), object(8)\n",
            "memory usage: 3.2+ MB\n"
          ]
        }
      ]
    },
    {
      "cell_type": "code",
      "source": [
        "df.isna().any()"
      ],
      "metadata": {
        "colab": {
          "base_uri": "https://localhost:8080/"
        },
        "id": "gE4NiiNmeKwK",
        "outputId": "f271d319-4b8c-4598-8599-d7a838ff03e5"
      },
      "execution_count": 7,
      "outputs": [
        {
          "output_type": "execute_result",
          "data": {
            "text/plain": [
              "Unnamed: 0                      False\n",
              "Ware_house_ID                   False\n",
              "WH_Manager_ID                   False\n",
              "Location_type                   False\n",
              "WH_capacity_size                False\n",
              "zone                            False\n",
              "WH_regional_zone                False\n",
              "num_refill_req_l3m              False\n",
              "transport_issue_l1y             False\n",
              "Competitor_in_mkt               False\n",
              "retail_shop_num                 False\n",
              "wh_owner_type                   False\n",
              "distributor_num                 False\n",
              "flood_impacted                  False\n",
              "flood_proof                     False\n",
              "electric_supply                 False\n",
              "dist_from_hub                   False\n",
              "workers_num                      True\n",
              "wh_est_year                      True\n",
              "storage_issue_reported_l3m      False\n",
              "temp_reg_mach                   False\n",
              "approved_wh_govt_certificate     True\n",
              "wh_breakdown_l3m                False\n",
              "govt_check_l3m                  False\n",
              "product_wg_ton                  False\n",
              "dtype: bool"
            ]
          },
          "metadata": {},
          "execution_count": 7
        }
      ]
    },
    {
      "cell_type": "code",
      "source": [
        "df.isna().sum()"
      ],
      "metadata": {
        "colab": {
          "base_uri": "https://localhost:8080/"
        },
        "id": "7fn_sp-MeYtV",
        "outputId": "1d863d64-98fa-4590-be59-e6bba39d90f1"
      },
      "execution_count": 8,
      "outputs": [
        {
          "output_type": "execute_result",
          "data": {
            "text/plain": [
              "Unnamed: 0                         0\n",
              "Ware_house_ID                      0\n",
              "WH_Manager_ID                      0\n",
              "Location_type                      0\n",
              "WH_capacity_size                   0\n",
              "zone                               0\n",
              "WH_regional_zone                   0\n",
              "num_refill_req_l3m                 0\n",
              "transport_issue_l1y                0\n",
              "Competitor_in_mkt                  0\n",
              "retail_shop_num                    0\n",
              "wh_owner_type                      0\n",
              "distributor_num                    0\n",
              "flood_impacted                     0\n",
              "flood_proof                        0\n",
              "electric_supply                    0\n",
              "dist_from_hub                      0\n",
              "workers_num                      667\n",
              "wh_est_year                     7860\n",
              "storage_issue_reported_l3m         0\n",
              "temp_reg_mach                      0\n",
              "approved_wh_govt_certificate     599\n",
              "wh_breakdown_l3m                   0\n",
              "govt_check_l3m                     0\n",
              "product_wg_ton                     0\n",
              "dtype: int64"
            ]
          },
          "metadata": {},
          "execution_count": 8
        }
      ]
    },
    {
      "cell_type": "code",
      "source": [
        "Avg_num_workers=df.groupby('WH_capacity_size')['workers_num'].mean()"
      ],
      "metadata": {
        "id": "_0LSVYH5emDQ"
      },
      "execution_count": 9,
      "outputs": []
    },
    {
      "cell_type": "code",
      "source": [
        "Avg_num_workers"
      ],
      "metadata": {
        "colab": {
          "base_uri": "https://localhost:8080/"
        },
        "id": "QpX8pliwgOWB",
        "outputId": "fa425f28-f7a7-4305-cd13-a9048339e3d8"
      },
      "execution_count": 10,
      "outputs": [
        {
          "output_type": "execute_result",
          "data": {
            "text/plain": [
              "WH_capacity_size\n",
              "Large    29.009596\n",
              "Mid      28.697609\n",
              "Small    29.155410\n",
              "Name: workers_num, dtype: float64"
            ]
          },
          "metadata": {},
          "execution_count": 10
        }
      ]
    },
    {
      "cell_type": "code",
      "source": [
        "df['workers_num']=df['workers_num'].replace(to_replace=np.nan,value=29)"
      ],
      "metadata": {
        "id": "vudjh6FrgX23"
      },
      "execution_count": 11,
      "outputs": []
    },
    {
      "cell_type": "code",
      "source": [
        "df['wh_est_year']=df['wh_est_year'].replace(to_replace=np.nan,value=0)"
      ],
      "metadata": {
        "id": "ODBujQ3wg0s2"
      },
      "execution_count": 12,
      "outputs": []
    },
    {
      "cell_type": "code",
      "source": [
        "df['approved_wh_govt_certificate']=df['approved_wh_govt_certificate'].replace(to_replace=np.nan,value='Not Issued')"
      ],
      "metadata": {
        "id": "Mwt9n060hooS"
      },
      "execution_count": 13,
      "outputs": []
    },
    {
      "cell_type": "code",
      "source": [
        "df.isna().sum()"
      ],
      "metadata": {
        "colab": {
          "base_uri": "https://localhost:8080/"
        },
        "id": "YVM4uXA4h7Jt",
        "outputId": "a2f6070c-2d60-4056-ec1a-1cea5f93f255"
      },
      "execution_count": 14,
      "outputs": [
        {
          "output_type": "execute_result",
          "data": {
            "text/plain": [
              "Unnamed: 0                      0\n",
              "Ware_house_ID                   0\n",
              "WH_Manager_ID                   0\n",
              "Location_type                   0\n",
              "WH_capacity_size                0\n",
              "zone                            0\n",
              "WH_regional_zone                0\n",
              "num_refill_req_l3m              0\n",
              "transport_issue_l1y             0\n",
              "Competitor_in_mkt               0\n",
              "retail_shop_num                 0\n",
              "wh_owner_type                   0\n",
              "distributor_num                 0\n",
              "flood_impacted                  0\n",
              "flood_proof                     0\n",
              "electric_supply                 0\n",
              "dist_from_hub                   0\n",
              "workers_num                     0\n",
              "wh_est_year                     0\n",
              "storage_issue_reported_l3m      0\n",
              "temp_reg_mach                   0\n",
              "approved_wh_govt_certificate    0\n",
              "wh_breakdown_l3m                0\n",
              "govt_check_l3m                  0\n",
              "product_wg_ton                  0\n",
              "dtype: int64"
            ]
          },
          "metadata": {},
          "execution_count": 14
        }
      ]
    },
    {
      "cell_type": "code",
      "source": [
        "import seaborn as sns"
      ],
      "metadata": {
        "id": "GxNnfhbkdMi-"
      },
      "execution_count": 15,
      "outputs": []
    },
    {
      "cell_type": "code",
      "source": [
        "df.describe().T"
      ],
      "metadata": {
        "colab": {
          "base_uri": "https://localhost:8080/",
          "height": 582
        },
        "id": "uoCR3KCQkwW6",
        "outputId": "41de62ff-a0fd-491e-a2e4-e063c8b08b0c"
      },
      "execution_count": 16,
      "outputs": [
        {
          "output_type": "execute_result",
          "data": {
            "text/plain": [
              "                              count          mean           std     min  \\\n",
              "Unnamed: 0                  16620.0   8309.500000   4797.925072     0.0   \n",
              "num_refill_req_l3m          16620.0      4.126655      2.606241     0.0   \n",
              "transport_issue_l1y         16620.0      0.780927      1.206351     0.0   \n",
              "Competitor_in_mkt           16620.0      3.103129      1.147711     0.0   \n",
              "retail_shop_num             16620.0   4983.904994   1051.032239  1821.0   \n",
              "distributor_num             16620.0     42.473706     16.090000    15.0   \n",
              "flood_impacted              16620.0      0.096871      0.295791     0.0   \n",
              "flood_proof                 16620.0      0.056017      0.229961     0.0   \n",
              "electric_supply             16620.0      0.655716      0.475149     0.0   \n",
              "dist_from_hub               16620.0    163.521901     62.701193    55.0   \n",
              "workers_num                 16620.0     28.915042      7.683085    10.0   \n",
              "wh_est_year                 16620.0   1059.077316   1003.243662     0.0   \n",
              "storage_issue_reported_l3m  16620.0     17.127196      9.163901     0.0   \n",
              "temp_reg_mach               16620.0      0.306137      0.460901     0.0   \n",
              "wh_breakdown_l3m            16620.0      3.491095      1.688614     0.0   \n",
              "govt_check_l3m              16620.0     18.727377      8.619857     1.0   \n",
              "product_wg_ton              16620.0  22098.420096  11620.337346  2093.0   \n",
              "\n",
              "                                 25%      50%       75%      max  \n",
              "Unnamed: 0                   4154.75   8309.5  12464.25  16619.0  \n",
              "num_refill_req_l3m              2.00      4.0      6.00      8.0  \n",
              "transport_issue_l1y             0.00      0.0      1.00      5.0  \n",
              "Competitor_in_mkt               2.00      3.0      4.00     12.0  \n",
              "retail_shop_num              4309.00   4856.0   5500.00  11008.0  \n",
              "distributor_num                29.00     42.0     56.00     70.0  \n",
              "flood_impacted                  0.00      0.0      0.00      1.0  \n",
              "flood_proof                     0.00      0.0      0.00      1.0  \n",
              "electric_supply                 0.00      1.0      1.00      1.0  \n",
              "dist_from_hub                 109.00    164.0    218.00    271.0  \n",
              "workers_num                    24.00     28.0     33.00     98.0  \n",
              "wh_est_year                     0.00   1998.0   2010.00   2023.0  \n",
              "storage_issue_reported_l3m     10.00     18.0     24.00     39.0  \n",
              "temp_reg_mach                   0.00      0.0      1.00      1.0  \n",
              "wh_breakdown_l3m                2.00      3.0      5.00      6.0  \n",
              "govt_check_l3m                 11.00     19.0     26.00     32.0  \n",
              "product_wg_ton              13057.00  22099.0  30103.00  55151.0  "
            ],
            "text/html": [
              "\n",
              "  <div id=\"df-cdf1cd38-c6f2-4fe2-b90e-3d2469da9b5f\" class=\"colab-df-container\">\n",
              "    <div>\n",
              "<style scoped>\n",
              "    .dataframe tbody tr th:only-of-type {\n",
              "        vertical-align: middle;\n",
              "    }\n",
              "\n",
              "    .dataframe tbody tr th {\n",
              "        vertical-align: top;\n",
              "    }\n",
              "\n",
              "    .dataframe thead th {\n",
              "        text-align: right;\n",
              "    }\n",
              "</style>\n",
              "<table border=\"1\" class=\"dataframe\">\n",
              "  <thead>\n",
              "    <tr style=\"text-align: right;\">\n",
              "      <th></th>\n",
              "      <th>count</th>\n",
              "      <th>mean</th>\n",
              "      <th>std</th>\n",
              "      <th>min</th>\n",
              "      <th>25%</th>\n",
              "      <th>50%</th>\n",
              "      <th>75%</th>\n",
              "      <th>max</th>\n",
              "    </tr>\n",
              "  </thead>\n",
              "  <tbody>\n",
              "    <tr>\n",
              "      <th>Unnamed: 0</th>\n",
              "      <td>16620.0</td>\n",
              "      <td>8309.500000</td>\n",
              "      <td>4797.925072</td>\n",
              "      <td>0.0</td>\n",
              "      <td>4154.75</td>\n",
              "      <td>8309.5</td>\n",
              "      <td>12464.25</td>\n",
              "      <td>16619.0</td>\n",
              "    </tr>\n",
              "    <tr>\n",
              "      <th>num_refill_req_l3m</th>\n",
              "      <td>16620.0</td>\n",
              "      <td>4.126655</td>\n",
              "      <td>2.606241</td>\n",
              "      <td>0.0</td>\n",
              "      <td>2.00</td>\n",
              "      <td>4.0</td>\n",
              "      <td>6.00</td>\n",
              "      <td>8.0</td>\n",
              "    </tr>\n",
              "    <tr>\n",
              "      <th>transport_issue_l1y</th>\n",
              "      <td>16620.0</td>\n",
              "      <td>0.780927</td>\n",
              "      <td>1.206351</td>\n",
              "      <td>0.0</td>\n",
              "      <td>0.00</td>\n",
              "      <td>0.0</td>\n",
              "      <td>1.00</td>\n",
              "      <td>5.0</td>\n",
              "    </tr>\n",
              "    <tr>\n",
              "      <th>Competitor_in_mkt</th>\n",
              "      <td>16620.0</td>\n",
              "      <td>3.103129</td>\n",
              "      <td>1.147711</td>\n",
              "      <td>0.0</td>\n",
              "      <td>2.00</td>\n",
              "      <td>3.0</td>\n",
              "      <td>4.00</td>\n",
              "      <td>12.0</td>\n",
              "    </tr>\n",
              "    <tr>\n",
              "      <th>retail_shop_num</th>\n",
              "      <td>16620.0</td>\n",
              "      <td>4983.904994</td>\n",
              "      <td>1051.032239</td>\n",
              "      <td>1821.0</td>\n",
              "      <td>4309.00</td>\n",
              "      <td>4856.0</td>\n",
              "      <td>5500.00</td>\n",
              "      <td>11008.0</td>\n",
              "    </tr>\n",
              "    <tr>\n",
              "      <th>distributor_num</th>\n",
              "      <td>16620.0</td>\n",
              "      <td>42.473706</td>\n",
              "      <td>16.090000</td>\n",
              "      <td>15.0</td>\n",
              "      <td>29.00</td>\n",
              "      <td>42.0</td>\n",
              "      <td>56.00</td>\n",
              "      <td>70.0</td>\n",
              "    </tr>\n",
              "    <tr>\n",
              "      <th>flood_impacted</th>\n",
              "      <td>16620.0</td>\n",
              "      <td>0.096871</td>\n",
              "      <td>0.295791</td>\n",
              "      <td>0.0</td>\n",
              "      <td>0.00</td>\n",
              "      <td>0.0</td>\n",
              "      <td>0.00</td>\n",
              "      <td>1.0</td>\n",
              "    </tr>\n",
              "    <tr>\n",
              "      <th>flood_proof</th>\n",
              "      <td>16620.0</td>\n",
              "      <td>0.056017</td>\n",
              "      <td>0.229961</td>\n",
              "      <td>0.0</td>\n",
              "      <td>0.00</td>\n",
              "      <td>0.0</td>\n",
              "      <td>0.00</td>\n",
              "      <td>1.0</td>\n",
              "    </tr>\n",
              "    <tr>\n",
              "      <th>electric_supply</th>\n",
              "      <td>16620.0</td>\n",
              "      <td>0.655716</td>\n",
              "      <td>0.475149</td>\n",
              "      <td>0.0</td>\n",
              "      <td>0.00</td>\n",
              "      <td>1.0</td>\n",
              "      <td>1.00</td>\n",
              "      <td>1.0</td>\n",
              "    </tr>\n",
              "    <tr>\n",
              "      <th>dist_from_hub</th>\n",
              "      <td>16620.0</td>\n",
              "      <td>163.521901</td>\n",
              "      <td>62.701193</td>\n",
              "      <td>55.0</td>\n",
              "      <td>109.00</td>\n",
              "      <td>164.0</td>\n",
              "      <td>218.00</td>\n",
              "      <td>271.0</td>\n",
              "    </tr>\n",
              "    <tr>\n",
              "      <th>workers_num</th>\n",
              "      <td>16620.0</td>\n",
              "      <td>28.915042</td>\n",
              "      <td>7.683085</td>\n",
              "      <td>10.0</td>\n",
              "      <td>24.00</td>\n",
              "      <td>28.0</td>\n",
              "      <td>33.00</td>\n",
              "      <td>98.0</td>\n",
              "    </tr>\n",
              "    <tr>\n",
              "      <th>wh_est_year</th>\n",
              "      <td>16620.0</td>\n",
              "      <td>1059.077316</td>\n",
              "      <td>1003.243662</td>\n",
              "      <td>0.0</td>\n",
              "      <td>0.00</td>\n",
              "      <td>1998.0</td>\n",
              "      <td>2010.00</td>\n",
              "      <td>2023.0</td>\n",
              "    </tr>\n",
              "    <tr>\n",
              "      <th>storage_issue_reported_l3m</th>\n",
              "      <td>16620.0</td>\n",
              "      <td>17.127196</td>\n",
              "      <td>9.163901</td>\n",
              "      <td>0.0</td>\n",
              "      <td>10.00</td>\n",
              "      <td>18.0</td>\n",
              "      <td>24.00</td>\n",
              "      <td>39.0</td>\n",
              "    </tr>\n",
              "    <tr>\n",
              "      <th>temp_reg_mach</th>\n",
              "      <td>16620.0</td>\n",
              "      <td>0.306137</td>\n",
              "      <td>0.460901</td>\n",
              "      <td>0.0</td>\n",
              "      <td>0.00</td>\n",
              "      <td>0.0</td>\n",
              "      <td>1.00</td>\n",
              "      <td>1.0</td>\n",
              "    </tr>\n",
              "    <tr>\n",
              "      <th>wh_breakdown_l3m</th>\n",
              "      <td>16620.0</td>\n",
              "      <td>3.491095</td>\n",
              "      <td>1.688614</td>\n",
              "      <td>0.0</td>\n",
              "      <td>2.00</td>\n",
              "      <td>3.0</td>\n",
              "      <td>5.00</td>\n",
              "      <td>6.0</td>\n",
              "    </tr>\n",
              "    <tr>\n",
              "      <th>govt_check_l3m</th>\n",
              "      <td>16620.0</td>\n",
              "      <td>18.727377</td>\n",
              "      <td>8.619857</td>\n",
              "      <td>1.0</td>\n",
              "      <td>11.00</td>\n",
              "      <td>19.0</td>\n",
              "      <td>26.00</td>\n",
              "      <td>32.0</td>\n",
              "    </tr>\n",
              "    <tr>\n",
              "      <th>product_wg_ton</th>\n",
              "      <td>16620.0</td>\n",
              "      <td>22098.420096</td>\n",
              "      <td>11620.337346</td>\n",
              "      <td>2093.0</td>\n",
              "      <td>13057.00</td>\n",
              "      <td>22099.0</td>\n",
              "      <td>30103.00</td>\n",
              "      <td>55151.0</td>\n",
              "    </tr>\n",
              "  </tbody>\n",
              "</table>\n",
              "</div>\n",
              "    <div class=\"colab-df-buttons\">\n",
              "\n",
              "  <div class=\"colab-df-container\">\n",
              "    <button class=\"colab-df-convert\" onclick=\"convertToInteractive('df-cdf1cd38-c6f2-4fe2-b90e-3d2469da9b5f')\"\n",
              "            title=\"Convert this dataframe to an interactive table.\"\n",
              "            style=\"display:none;\">\n",
              "\n",
              "  <svg xmlns=\"http://www.w3.org/2000/svg\" height=\"24px\" viewBox=\"0 -960 960 960\">\n",
              "    <path d=\"M120-120v-720h720v720H120Zm60-500h600v-160H180v160Zm220 220h160v-160H400v160Zm0 220h160v-160H400v160ZM180-400h160v-160H180v160Zm440 0h160v-160H620v160ZM180-180h160v-160H180v160Zm440 0h160v-160H620v160Z\"/>\n",
              "  </svg>\n",
              "    </button>\n",
              "\n",
              "  <style>\n",
              "    .colab-df-container {\n",
              "      display:flex;\n",
              "      gap: 12px;\n",
              "    }\n",
              "\n",
              "    .colab-df-convert {\n",
              "      background-color: #E8F0FE;\n",
              "      border: none;\n",
              "      border-radius: 50%;\n",
              "      cursor: pointer;\n",
              "      display: none;\n",
              "      fill: #1967D2;\n",
              "      height: 32px;\n",
              "      padding: 0 0 0 0;\n",
              "      width: 32px;\n",
              "    }\n",
              "\n",
              "    .colab-df-convert:hover {\n",
              "      background-color: #E2EBFA;\n",
              "      box-shadow: 0px 1px 2px rgba(60, 64, 67, 0.3), 0px 1px 3px 1px rgba(60, 64, 67, 0.15);\n",
              "      fill: #174EA6;\n",
              "    }\n",
              "\n",
              "    .colab-df-buttons div {\n",
              "      margin-bottom: 4px;\n",
              "    }\n",
              "\n",
              "    [theme=dark] .colab-df-convert {\n",
              "      background-color: #3B4455;\n",
              "      fill: #D2E3FC;\n",
              "    }\n",
              "\n",
              "    [theme=dark] .colab-df-convert:hover {\n",
              "      background-color: #434B5C;\n",
              "      box-shadow: 0px 1px 3px 1px rgba(0, 0, 0, 0.15);\n",
              "      filter: drop-shadow(0px 1px 2px rgba(0, 0, 0, 0.3));\n",
              "      fill: #FFFFFF;\n",
              "    }\n",
              "  </style>\n",
              "\n",
              "    <script>\n",
              "      const buttonEl =\n",
              "        document.querySelector('#df-cdf1cd38-c6f2-4fe2-b90e-3d2469da9b5f button.colab-df-convert');\n",
              "      buttonEl.style.display =\n",
              "        google.colab.kernel.accessAllowed ? 'block' : 'none';\n",
              "\n",
              "      async function convertToInteractive(key) {\n",
              "        const element = document.querySelector('#df-cdf1cd38-c6f2-4fe2-b90e-3d2469da9b5f');\n",
              "        const dataTable =\n",
              "          await google.colab.kernel.invokeFunction('convertToInteractive',\n",
              "                                                    [key], {});\n",
              "        if (!dataTable) return;\n",
              "\n",
              "        const docLinkHtml = 'Like what you see? Visit the ' +\n",
              "          '<a target=\"_blank\" href=https://colab.research.google.com/notebooks/data_table.ipynb>data table notebook</a>'\n",
              "          + ' to learn more about interactive tables.';\n",
              "        element.innerHTML = '';\n",
              "        dataTable['output_type'] = 'display_data';\n",
              "        await google.colab.output.renderOutput(dataTable, element);\n",
              "        const docLink = document.createElement('div');\n",
              "        docLink.innerHTML = docLinkHtml;\n",
              "        element.appendChild(docLink);\n",
              "      }\n",
              "    </script>\n",
              "  </div>\n",
              "\n",
              "\n",
              "<div id=\"df-60b94e93-cf00-4e7c-aa24-f901448b5b63\">\n",
              "  <button class=\"colab-df-quickchart\" onclick=\"quickchart('df-60b94e93-cf00-4e7c-aa24-f901448b5b63')\"\n",
              "            title=\"Suggest charts\"\n",
              "            style=\"display:none;\">\n",
              "\n",
              "<svg xmlns=\"http://www.w3.org/2000/svg\" height=\"24px\"viewBox=\"0 0 24 24\"\n",
              "     width=\"24px\">\n",
              "    <g>\n",
              "        <path d=\"M19 3H5c-1.1 0-2 .9-2 2v14c0 1.1.9 2 2 2h14c1.1 0 2-.9 2-2V5c0-1.1-.9-2-2-2zM9 17H7v-7h2v7zm4 0h-2V7h2v10zm4 0h-2v-4h2v4z\"/>\n",
              "    </g>\n",
              "</svg>\n",
              "  </button>\n",
              "\n",
              "<style>\n",
              "  .colab-df-quickchart {\n",
              "      --bg-color: #E8F0FE;\n",
              "      --fill-color: #1967D2;\n",
              "      --hover-bg-color: #E2EBFA;\n",
              "      --hover-fill-color: #174EA6;\n",
              "      --disabled-fill-color: #AAA;\n",
              "      --disabled-bg-color: #DDD;\n",
              "  }\n",
              "\n",
              "  [theme=dark] .colab-df-quickchart {\n",
              "      --bg-color: #3B4455;\n",
              "      --fill-color: #D2E3FC;\n",
              "      --hover-bg-color: #434B5C;\n",
              "      --hover-fill-color: #FFFFFF;\n",
              "      --disabled-bg-color: #3B4455;\n",
              "      --disabled-fill-color: #666;\n",
              "  }\n",
              "\n",
              "  .colab-df-quickchart {\n",
              "    background-color: var(--bg-color);\n",
              "    border: none;\n",
              "    border-radius: 50%;\n",
              "    cursor: pointer;\n",
              "    display: none;\n",
              "    fill: var(--fill-color);\n",
              "    height: 32px;\n",
              "    padding: 0;\n",
              "    width: 32px;\n",
              "  }\n",
              "\n",
              "  .colab-df-quickchart:hover {\n",
              "    background-color: var(--hover-bg-color);\n",
              "    box-shadow: 0 1px 2px rgba(60, 64, 67, 0.3), 0 1px 3px 1px rgba(60, 64, 67, 0.15);\n",
              "    fill: var(--button-hover-fill-color);\n",
              "  }\n",
              "\n",
              "  .colab-df-quickchart-complete:disabled,\n",
              "  .colab-df-quickchart-complete:disabled:hover {\n",
              "    background-color: var(--disabled-bg-color);\n",
              "    fill: var(--disabled-fill-color);\n",
              "    box-shadow: none;\n",
              "  }\n",
              "\n",
              "  .colab-df-spinner {\n",
              "    border: 2px solid var(--fill-color);\n",
              "    border-color: transparent;\n",
              "    border-bottom-color: var(--fill-color);\n",
              "    animation:\n",
              "      spin 1s steps(1) infinite;\n",
              "  }\n",
              "\n",
              "  @keyframes spin {\n",
              "    0% {\n",
              "      border-color: transparent;\n",
              "      border-bottom-color: var(--fill-color);\n",
              "      border-left-color: var(--fill-color);\n",
              "    }\n",
              "    20% {\n",
              "      border-color: transparent;\n",
              "      border-left-color: var(--fill-color);\n",
              "      border-top-color: var(--fill-color);\n",
              "    }\n",
              "    30% {\n",
              "      border-color: transparent;\n",
              "      border-left-color: var(--fill-color);\n",
              "      border-top-color: var(--fill-color);\n",
              "      border-right-color: var(--fill-color);\n",
              "    }\n",
              "    40% {\n",
              "      border-color: transparent;\n",
              "      border-right-color: var(--fill-color);\n",
              "      border-top-color: var(--fill-color);\n",
              "    }\n",
              "    60% {\n",
              "      border-color: transparent;\n",
              "      border-right-color: var(--fill-color);\n",
              "    }\n",
              "    80% {\n",
              "      border-color: transparent;\n",
              "      border-right-color: var(--fill-color);\n",
              "      border-bottom-color: var(--fill-color);\n",
              "    }\n",
              "    90% {\n",
              "      border-color: transparent;\n",
              "      border-bottom-color: var(--fill-color);\n",
              "    }\n",
              "  }\n",
              "</style>\n",
              "\n",
              "  <script>\n",
              "    async function quickchart(key) {\n",
              "      const quickchartButtonEl =\n",
              "        document.querySelector('#' + key + ' button');\n",
              "      quickchartButtonEl.disabled = true;  // To prevent multiple clicks.\n",
              "      quickchartButtonEl.classList.add('colab-df-spinner');\n",
              "      try {\n",
              "        const charts = await google.colab.kernel.invokeFunction(\n",
              "            'suggestCharts', [key], {});\n",
              "      } catch (error) {\n",
              "        console.error('Error during call to suggestCharts:', error);\n",
              "      }\n",
              "      quickchartButtonEl.classList.remove('colab-df-spinner');\n",
              "      quickchartButtonEl.classList.add('colab-df-quickchart-complete');\n",
              "    }\n",
              "    (() => {\n",
              "      let quickchartButtonEl =\n",
              "        document.querySelector('#df-60b94e93-cf00-4e7c-aa24-f901448b5b63 button');\n",
              "      quickchartButtonEl.style.display =\n",
              "        google.colab.kernel.accessAllowed ? 'block' : 'none';\n",
              "    })();\n",
              "  </script>\n",
              "</div>\n",
              "\n",
              "    </div>\n",
              "  </div>\n"
            ]
          },
          "metadata": {},
          "execution_count": 16
        }
      ]
    },
    {
      "cell_type": "code",
      "source": [
        "df.columns"
      ],
      "metadata": {
        "colab": {
          "base_uri": "https://localhost:8080/"
        },
        "id": "VmepmfSU9Mg5",
        "outputId": "7b7802d8-c216-46fe-8c2f-d6c789d12784"
      },
      "execution_count": 17,
      "outputs": [
        {
          "output_type": "execute_result",
          "data": {
            "text/plain": [
              "Index(['Unnamed: 0', 'Ware_house_ID', 'WH_Manager_ID', 'Location_type',\n",
              "       'WH_capacity_size', 'zone', 'WH_regional_zone', 'num_refill_req_l3m',\n",
              "       'transport_issue_l1y', 'Competitor_in_mkt', 'retail_shop_num',\n",
              "       'wh_owner_type', 'distributor_num', 'flood_impacted', 'flood_proof',\n",
              "       'electric_supply', 'dist_from_hub', 'workers_num', 'wh_est_year',\n",
              "       'storage_issue_reported_l3m', 'temp_reg_mach',\n",
              "       'approved_wh_govt_certificate', 'wh_breakdown_l3m', 'govt_check_l3m',\n",
              "       'product_wg_ton'],\n",
              "      dtype='object')"
            ]
          },
          "metadata": {},
          "execution_count": 17
        }
      ]
    },
    {
      "cell_type": "code",
      "source": [
        "\n",
        "col=[ 'Competitor_in_mkt', 'retail_shop_num',\n",
        "       'distributor_num', 'flood_impacted', 'flood_proof',\n",
        "       'electric_supply', 'dist_from_hub', 'workers_num',\n",
        "       'storage_issue_reported_l3m', 'temp_reg_mach',\n",
        "       'wh_breakdown_l3m', 'govt_check_l3m',\n",
        "       'product_wg_ton']\n",
        "for i in col:\n",
        "  sns.boxplot(df[i])\n",
        "  plt.title(i)\n",
        "  plt.show()"
      ],
      "metadata": {
        "colab": {
          "base_uri": "https://localhost:8080/",
          "height": 1000
        },
        "id": "6xRlY_1Q8END",
        "outputId": "9f32d683-fae8-4033-e58b-4e5e6fbda099"
      },
      "execution_count": 18,
      "outputs": [
        {
          "output_type": "display_data",
          "data": {
            "text/plain": [
              "<Figure size 640x480 with 1 Axes>"
            ],
            "image/png": "[encoded data removed]"
          },
          "metadata": {}
        },
        {
          "output_type": "display_data",
          "data": {
            "text/plain": [
              "<Figure size 640x480 with 1 Axes>"
            ],
            "image/png": "[encoded data removed]"
          },
          "metadata": {}
        },
        {
          "output_type": "display_data",
          "data": {
            "text/plain": [
              "<Figure size 640x480 with 1 Axes>"
            ],
            "image/png": "[encoded data removed]"
          },
          "metadata": {}
        },
        {
          "output_type": "display_data",
          "data": {
            "text/plain": [
              "<Figure size 640x480 with 1 Axes>"
            ],
            "image/png": "[encoded data removed]"
          },
          "metadata": {}
        },
        {
          "output_type": "display_data",
          "data": {
            "text/plain": [
              "<Figure size 640x480 with 1 Axes>"
            ],
            "image/png": "[encoded data removed]"
          },
          "metadata": {}
        },
        {
          "output_type": "display_data",
          "data": {
            "text/plain": [
              "<Figure size 640x480 with 1 Axes>"
            ],
            "image/png": "[encoded data removed]"
          },
          "metadata": {}
        },
        {
          "output_type": "display_data",
          "data": {
            "text/plain": [
              "<Figure size 640x480 with 1 Axes>"
            ],
            "image/png": "[encoded data removed]"
          },
          "metadata": {}
        },
        {
          "output_type": "display_data",
          "data": {
            "text/plain": [
              "<Figure size 640x480 with 1 Axes>"
            ],
            "image/png": "[encoded data removed]"
          },
          "metadata": {}
        },
        {
          "output_type": "display_data",
          "data": {
            "text/plain": [
              "<Figure size 640x480 with 1 Axes>"
            ],
            "image/png": "[encoded data removed]"
          },
          "metadata": {}
        },
        {
          "output_type": "display_data",
          "data": {
            "text/plain": [
              "<Figure size 640x480 with 1 Axes>"
            ],
            "image/png": "[encoded data removed]"
          },
          "metadata": {}
        },
        {
          "output_type": "display_data",
          "data": {
            "text/plain": [
              "<Figure size 640x480 with 1 Axes>"
            ],
            "image/png": "[encoded data removed]"
          },
          "metadata": {}
        },
        {
          "output_type": "display_data",
          "data": {
            "text/plain": [
              "<Figure size 640x480 with 1 Axes>"
            ],
            "image/png": "[encoded data removed]"
          },
          "metadata": {}
        },
        {
          "output_type": "display_data",
          "data": {
            "text/plain": [
              "<Figure size 640x480 with 1 Axes>"
            ],
            "image/png": "[encoded data removed]"
          },
          "metadata": {}
        }
      ]
    },
    {
      "cell_type": "code",
      "source": [],
      "metadata": {
        "id": "bu0v4sMKixxT"
      },
      "execution_count": 18,
      "outputs": []
    },
    {
      "cell_type": "markdown",
      "source": [
        "workers number ,retail shop number and workers number have outliers"
      ],
      "metadata": {
        "id": "X8YdiQCfBSUB"
      }
    },
    {
      "cell_type": "code",
      "source": [],
      "metadata": {
        "id": "PR4r0DRndLUI",
        "colab": {
          "base_uri": "https://localhost:8080/",
          "height": 467
        },
        "outputId": "a06c7f05-9378-4d5e-9370-a71b4fe8b5f2"
      },
      "execution_count": 19,
      "outputs": [
        {
          "output_type": "execute_result",
          "data": {
            "text/plain": [
              "<Axes: xlabel='Location_type', ylabel='retail_shop_num'>"
            ]
          },
          "metadata": {},
          "execution_count": 19
        },
        {
          "output_type": "display_data",
          "data": {
            "text/plain": [
              "<Figure size 640x480 with 1 Axes>"
            ],
            "image/png": "[encoded data removed]"
          },
          "metadata": {}
        }
      ]
    },
    {
      "cell_type": "code",
      "source": [
        "#Linear Regression\n",
        "df.head(5)\n",
        "\n"
      ],
      "metadata": {
        "id": "tWCkU7BbnZ6L",
        "colab": {
          "base_uri": "https://localhost:8080/",
          "height": 273
        },
        "outputId": "e267945d-00f8-4201-f8a2-9b52108b347c"
      },
      "execution_count": 20,
      "outputs": [
        {
          "output_type": "execute_result",
          "data": {
            "text/plain": [
              "   Unnamed: 0 Ware_house_ID WH_Manager_ID Location_type WH_capacity_size  \\\n",
              "0           0     WH_100000     EID_50000         Urban            Small   \n",
              "1           1     WH_100001     EID_50001         Rural            Large   \n",
              "2           2     WH_100002     EID_50002         Rural              Mid   \n",
              "3           3     WH_100003     EID_50003         Rural              Mid   \n",
              "4           4     WH_100004     EID_50004         Rural            Large   \n",
              "\n",
              "    zone WH_regional_zone  num_refill_req_l3m  transport_issue_l1y  \\\n",
              "0   West           Zone 6                   3                    1   \n",
              "1  North           Zone 5                   0                    0   \n",
              "2  South           Zone 2                   1                    0   \n",
              "3  North           Zone 3                   7                    4   \n",
              "4  North           Zone 5                   3                    1   \n",
              "\n",
              "   Competitor_in_mkt  ...  electric_supply dist_from_hub  workers_num  \\\n",
              "0                  2  ...                1            91         29.0   \n",
              "1                  4  ...                1           210         31.0   \n",
              "2                  4  ...                0           161         37.0   \n",
              "3                  2  ...                0           103         21.0   \n",
              "4                  2  ...                1           112         25.0   \n",
              "\n",
              "   wh_est_year  storage_issue_reported_l3m  temp_reg_mach  \\\n",
              "0          0.0                          13              0   \n",
              "1          0.0                           4              0   \n",
              "2          0.0                          17              0   \n",
              "3          0.0                          17              1   \n",
              "4       2009.0                          18              0   \n",
              "\n",
              "   approved_wh_govt_certificate  wh_breakdown_l3m  govt_check_l3m  \\\n",
              "0                             A                 5              15   \n",
              "1                             A                 3              17   \n",
              "2                             A                 6              22   \n",
              "3                            A+                 3              27   \n",
              "4                             C                 6              24   \n",
              "\n",
              "   product_wg_ton  \n",
              "0           17115  \n",
              "1            5074  \n",
              "2           23137  \n",
              "3           22115  \n",
              "4           24071  \n",
              "\n",
              "[5 rows x 25 columns]"
            ],
            "text/html": [
              "\n",
              "  <div id=\"df-f2cb8ed5-b644-4dcc-a6f0-2b22eaf5f383\" class=\"colab-df-container\">\n",
              "    <div>\n",
              "<style scoped>\n",
              "    .dataframe tbody tr th:only-of-type {\n",
              "        vertical-align: middle;\n",
              "    }\n",
              "\n",
              "    .dataframe tbody tr th {\n",
              "        vertical-align: top;\n",
              "    }\n",
              "\n",
              "    .dataframe thead th {\n",
              "        text-align: right;\n",
              "    }\n",
              "</style>\n",
              "<table border=\"1\" class=\"dataframe\">\n",
              "  <thead>\n",
              "    <tr style=\"text-align: right;\">\n",
              "      <th></th>\n",
              "      <th>Unnamed: 0</th>\n",
              "      <th>Ware_house_ID</th>\n",
              "      <th>WH_Manager_ID</th>\n",
              "      <th>Location_type</th>\n",
              "      <th>WH_capacity_size</th>\n",
              "      <th>zone</th>\n",
              "      <th>WH_regional_zone</th>\n",
              "      <th>num_refill_req_l3m</th>\n",
              "      <th>transport_issue_l1y</th>\n",
              "      <th>Competitor_in_mkt</th>\n",
              "      <th>...</th>\n",
              "      <th>electric_supply</th>\n",
              "      <th>dist_from_hub</th>\n",
              "      <th>workers_num</th>\n",
              "      <th>wh_est_year</th>\n",
              "      <th>storage_issue_reported_l3m</th>\n",
              "      <th>temp_reg_mach</th>\n",
              "      <th>approved_wh_govt_certificate</th>\n",
              "      <th>wh_breakdown_l3m</th>\n",
              "      <th>govt_check_l3m</th>\n",
              "      <th>product_wg_ton</th>\n",
              "    </tr>\n",
              "  </thead>\n",
              "  <tbody>\n",
              "    <tr>\n",
              "      <th>0</th>\n",
              "      <td>0</td>\n",
              "      <td>WH_100000</td>\n",
              "      <td>EID_50000</td>\n",
              "      <td>Urban</td>\n",
              "      <td>Small</td>\n",
              "      <td>West</td>\n",
              "      <td>Zone 6</td>\n",
              "      <td>3</td>\n",
              "      <td>1</td>\n",
              "      <td>2</td>\n",
              "      <td>...</td>\n",
              "      <td>1</td>\n",
              "      <td>91</td>\n",
              "      <td>29.0</td>\n",
              "      <td>0.0</td>\n",
              "      <td>13</td>\n",
              "      <td>0</td>\n",
              "      <td>A</td>\n",
              "      <td>5</td>\n",
              "      <td>15</td>\n",
              "      <td>17115</td>\n",
              "    </tr>\n",
              "    <tr>\n",
              "      <th>1</th>\n",
              "      <td>1</td>\n",
              "      <td>WH_100001</td>\n",
              "      <td>EID_50001</td>\n",
              "      <td>Rural</td>\n",
              "      <td>Large</td>\n",
              "      <td>North</td>\n",
              "      <td>Zone 5</td>\n",
              "      <td>0</td>\n",
              "      <td>0</td>\n",
              "      <td>4</td>\n",
              "      <td>...</td>\n",
              "      <td>1</td>\n",
              "      <td>210</td>\n",
              "      <td>31.0</td>\n",
              "      <td>0.0</td>\n",
              "      <td>4</td>\n",
              "      <td>0</td>\n",
              "      <td>A</td>\n",
              "      <td>3</td>\n",
              "      <td>17</td>\n",
              "      <td>5074</td>\n",
              "    </tr>\n",
              "    <tr>\n",
              "      <th>2</th>\n",
              "      <td>2</td>\n",
              "      <td>WH_100002</td>\n",
              "      <td>EID_50002</td>\n",
              "      <td>Rural</td>\n",
              "      <td>Mid</td>\n",
              "      <td>South</td>\n",
              "      <td>Zone 2</td>\n",
              "      <td>1</td>\n",
              "      <td>0</td>\n",
              "      <td>4</td>\n",
              "      <td>...</td>\n",
              "      <td>0</td>\n",
              "      <td>161</td>\n",
              "      <td>37.0</td>\n",
              "      <td>0.0</td>\n",
              "      <td>17</td>\n",
              "      <td>0</td>\n",
              "      <td>A</td>\n",
              "      <td>6</td>\n",
              "      <td>22</td>\n",
              "      <td>23137</td>\n",
              "    </tr>\n",
              "    <tr>\n",
              "      <th>3</th>\n",
              "      <td>3</td>\n",
              "      <td>WH_100003</td>\n",
              "      <td>EID_50003</td>\n",
              "      <td>Rural</td>\n",
              "      <td>Mid</td>\n",
              "      <td>North</td>\n",
              "      <td>Zone 3</td>\n",
              "      <td>7</td>\n",
              "      <td>4</td>\n",
              "      <td>2</td>\n",
              "      <td>...</td>\n",
              "      <td>0</td>\n",
              "      <td>103</td>\n",
              "      <td>21.0</td>\n",
              "      <td>0.0</td>\n",
              "      <td>17</td>\n",
              "      <td>1</td>\n",
              "      <td>A+</td>\n",
              "      <td>3</td>\n",
              "      <td>27</td>\n",
              "      <td>22115</td>\n",
              "    </tr>\n",
              "    <tr>\n",
              "      <th>4</th>\n",
              "      <td>4</td>\n",
              "      <td>WH_100004</td>\n",
              "      <td>EID_50004</td>\n",
              "      <td>Rural</td>\n",
              "      <td>Large</td>\n",
              "      <td>North</td>\n",
              "      <td>Zone 5</td>\n",
              "      <td>3</td>\n",
              "      <td>1</td>\n",
              "      <td>2</td>\n",
              "      <td>...</td>\n",
              "      <td>1</td>\n",
              "      <td>112</td>\n",
              "      <td>25.0</td>\n",
              "      <td>2009.0</td>\n",
              "      <td>18</td>\n",
              "      <td>0</td>\n",
              "      <td>C</td>\n",
              "      <td>6</td>\n",
              "      <td>24</td>\n",
              "      <td>24071</td>\n",
              "    </tr>\n",
              "  </tbody>\n",
              "</table>\n",
              "<p>5 rows × 25 columns</p>\n",
              "</div>\n",
              "    <div class=\"colab-df-buttons\">\n",
              "\n",
              "  <div class=\"colab-df-container\">\n",
              "    <button class=\"colab-df-convert\" onclick=\"convertToInteractive('df-f2cb8ed5-b644-4dcc-a6f0-2b22eaf5f383')\"\n",
              "            title=\"Convert this dataframe to an interactive table.\"\n",
              "            style=\"display:none;\">\n",
              "\n",
              "  <svg xmlns=\"http://www.w3.org/2000/svg\" height=\"24px\" viewBox=\"0 -960 960 960\">\n",
              "    <path d=\"M120-120v-720h720v720H120Zm60-500h600v-160H180v160Zm220 220h160v-160H400v160Zm0 220h160v-160H400v160ZM180-400h160v-160H180v160Zm440 0h160v-160H620v160ZM180-180h160v-160H180v160Zm440 0h160v-160H620v160Z\"/>\n",
              "  </svg>\n",
              "    </button>\n",
              "\n",
              "  <style>\n",
              "    .colab-df-container {\n",
              "      display:flex;\n",
              "      gap: 12px;\n",
              "    }\n",
              "\n",
              "    .colab-df-convert {\n",
              "      background-color: #E8F0FE;\n",
              "      border: none;\n",
              "      border-radius: 50%;\n",
              "      cursor: pointer;\n",
              "      display: none;\n",
              "      fill: #1967D2;\n",
              "      height: 32px;\n",
              "      padding: 0 0 0 0;\n",
              "      width: 32px;\n",
              "    }\n",
              "\n",
              "    .colab-df-convert:hover {\n",
              "      background-color: #E2EBFA;\n",
              "      box-shadow: 0px 1px 2px rgba(60, 64, 67, 0.3), 0px 1px 3px 1px rgba(60, 64, 67, 0.15);\n",
              "      fill: #174EA6;\n",
              "    }\n",
              "\n",
              "    .colab-df-buttons div {\n",
              "      margin-bottom: 4px;\n",
              "    }\n",
              "\n",
              "    [theme=dark] .colab-df-convert {\n",
              "      background-color: #3B4455;\n",
              "      fill: #D2E3FC;\n",
              "    }\n",
              "\n",
              "    [theme=dark] .colab-df-convert:hover {\n",
              "      background-color: #434B5C;\n",
              "      box-shadow: 0px 1px 3px 1px rgba(0, 0, 0, 0.15);\n",
              "      filter: drop-shadow(0px 1px 2px rgba(0, 0, 0, 0.3));\n",
              "      fill: #FFFFFF;\n",
              "    }\n",
              "  </style>\n",
              "\n",
              "    <script>\n",
              "      const buttonEl =\n",
              "        document.querySelector('#df-f2cb8ed5-b644-4dcc-a6f0-2b22eaf5f383 button.colab-df-convert');\n",
              "      buttonEl.style.display =\n",
              "        google.colab.kernel.accessAllowed ? 'block' : 'none';\n",
              "\n",
              "      async function convertToInteractive(key) {\n",
              "        const element = document.querySelector('#df-f2cb8ed5-b644-4dcc-a6f0-2b22eaf5f383');\n",
              "        const dataTable =\n",
              "          await google.colab.kernel.invokeFunction('convertToInteractive',\n",
              "                                                    [key], {});\n",
              "        if (!dataTable) return;\n",
              "\n",
              "        const docLinkHtml = 'Like what you see? Visit the ' +\n",
              "          '<a target=\"_blank\" href=https://colab.research.google.com/notebooks/data_table.ipynb>data table notebook</a>'\n",
              "          + ' to learn more about interactive tables.';\n",
              "        element.innerHTML = '';\n",
              "        dataTable['output_type'] = 'display_data';\n",
              "        await google.colab.output.renderOutput(dataTable, element);\n",
              "        const docLink = document.createElement('div');\n",
              "        docLink.innerHTML = docLinkHtml;\n",
              "        element.appendChild(docLink);\n",
              "      }\n",
              "    </script>\n",
              "  </div>\n",
              "\n",
              "\n",
              "<div id=\"df-7fdbb359-81d7-47f2-bd8f-4292d6e3777a\">\n",
              "  <button class=\"colab-df-quickchart\" onclick=\"quickchart('df-7fdbb359-81d7-47f2-bd8f-4292d6e3777a')\"\n",
              "            title=\"Suggest charts\"\n",
              "            style=\"display:none;\">\n",
              "\n",
              "<svg xmlns=\"http://www.w3.org/2000/svg\" height=\"24px\"viewBox=\"0 0 24 24\"\n",
              "     width=\"24px\">\n",
              "    <g>\n",
              "        <path d=\"M19 3H5c-1.1 0-2 .9-2 2v14c0 1.1.9 2 2 2h14c1.1 0 2-.9 2-2V5c0-1.1-.9-2-2-2zM9 17H7v-7h2v7zm4 0h-2V7h2v10zm4 0h-2v-4h2v4z\"/>\n",
              "    </g>\n",
              "</svg>\n",
              "  </button>\n",
              "\n",
              "<style>\n",
              "  .colab-df-quickchart {\n",
              "      --bg-color: #E8F0FE;\n",
              "      --fill-color: #1967D2;\n",
              "      --hover-bg-color: #E2EBFA;\n",
              "      --hover-fill-color: #174EA6;\n",
              "      --disabled-fill-color: #AAA;\n",
              "      --disabled-bg-color: #DDD;\n",
              "  }\n",
              "\n",
              "  [theme=dark] .colab-df-quickchart {\n",
              "      --bg-color: #3B4455;\n",
              "      --fill-color: #D2E3FC;\n",
              "      --hover-bg-color: #434B5C;\n",
              "      --hover-fill-color: #FFFFFF;\n",
              "      --disabled-bg-color: #3B4455;\n",
              "      --disabled-fill-color: #666;\n",
              "  }\n",
              "\n",
              "  .colab-df-quickchart {\n",
              "    background-color: var(--bg-color);\n",
              "    border: none;\n",
              "    border-radius: 50%;\n",
              "    cursor: pointer;\n",
              "    display: none;\n",
              "    fill: var(--fill-color);\n",
              "    height: 32px;\n",
              "    padding: 0;\n",
              "    width: 32px;\n",
              "  }\n",
              "\n",
              "  .colab-df-quickchart:hover {\n",
              "    background-color: var(--hover-bg-color);\n",
              "    box-shadow: 0 1px 2px rgba(60, 64, 67, 0.3), 0 1px 3px 1px rgba(60, 64, 67, 0.15);\n",
              "    fill: var(--button-hover-fill-color);\n",
              "  }\n",
              "\n",
              "  .colab-df-quickchart-complete:disabled,\n",
              "  .colab-df-quickchart-complete:disabled:hover {\n",
              "    background-color: var(--disabled-bg-color);\n",
              "    fill: var(--disabled-fill-color);\n",
              "    box-shadow: none;\n",
              "  }\n",
              "\n",
              "  .colab-df-spinner {\n",
              "    border: 2px solid var(--fill-color);\n",
              "    border-color: transparent;\n",
              "    border-bottom-color: var(--fill-color);\n",
              "    animation:\n",
              "      spin 1s steps(1) infinite;\n",
              "  }\n",
              "\n",
              "  @keyframes spin {\n",
              "    0% {\n",
              "      border-color: transparent;\n",
              "      border-bottom-color: var(--fill-color);\n",
              "      border-left-color: var(--fill-color);\n",
              "    }\n",
              "    20% {\n",
              "      border-color: transparent;\n",
              "      border-left-color: var(--fill-color);\n",
              "      border-top-color: var(--fill-color);\n",
              "    }\n",
              "    30% {\n",
              "      border-color: transparent;\n",
              "      border-left-color: var(--fill-color);\n",
              "      border-top-color: var(--fill-color);\n",
              "      border-right-color: var(--fill-color);\n",
              "    }\n",
              "    40% {\n",
              "      border-color: transparent;\n",
              "      border-right-color: var(--fill-color);\n",
              "      border-top-color: var(--fill-color);\n",
              "    }\n",
              "    60% {\n",
              "      border-color: transparent;\n",
              "      border-right-color: var(--fill-color);\n",
              "    }\n",
              "    80% {\n",
              "      border-color: transparent;\n",
              "      border-right-color: var(--fill-color);\n",
              "      border-bottom-color: var(--fill-color);\n",
              "    }\n",
              "    90% {\n",
              "      border-color: transparent;\n",
              "      border-bottom-color: var(--fill-color);\n",
              "    }\n",
              "  }\n",
              "</style>\n",
              "\n",
              "  <script>\n",
              "    async function quickchart(key) {\n",
              "      const quickchartButtonEl =\n",
              "        document.querySelector('#' + key + ' button');\n",
              "      quickchartButtonEl.disabled = true;  // To prevent multiple clicks.\n",
              "      quickchartButtonEl.classList.add('colab-df-spinner');\n",
              "      try {\n",
              "        const charts = await google.colab.kernel.invokeFunction(\n",
              "            'suggestCharts', [key], {});\n",
              "      } catch (error) {\n",
              "        console.error('Error during call to suggestCharts:', error);\n",
              "      }\n",
              "      quickchartButtonEl.classList.remove('colab-df-spinner');\n",
              "      quickchartButtonEl.classList.add('colab-df-quickchart-complete');\n",
              "    }\n",
              "    (() => {\n",
              "      let quickchartButtonEl =\n",
              "        document.querySelector('#df-7fdbb359-81d7-47f2-bd8f-4292d6e3777a button');\n",
              "      quickchartButtonEl.style.display =\n",
              "        google.colab.kernel.accessAllowed ? 'block' : 'none';\n",
              "    })();\n",
              "  </script>\n",
              "</div>\n",
              "\n",
              "    </div>\n",
              "  </div>\n"
            ]
          },
          "metadata": {},
          "execution_count": 20
        }
      ]
    },
    {
      "cell_type": "code",
      "source": [
        "new_data=df.loc[:,['num_refill_req_l3m','transport_issue_l1y','flood_impacted','Competitor_in_mkt','retail_shop_num','dist_from_hub','workers_num','wh_breakdown_l3m','storage_issue_reported_l3m','product_wg_ton']]"
      ],
      "metadata": {
        "id": "QF2Rpwxg0KI6"
      },
      "execution_count": 21,
      "outputs": []
    },
    {
      "cell_type": "code",
      "source": [
        "x=new_data.iloc[:,:-1].values\n",
        "y=new_data.iloc[:,-1].values"
      ],
      "metadata": {
        "id": "AHuNc-8o1gqF"
      },
      "execution_count": 22,
      "outputs": []
    },
    {
      "cell_type": "code",
      "source": [
        "new_data.head(5)"
      ],
      "metadata": {
        "colab": {
          "base_uri": "https://localhost:8080/",
          "height": 226
        },
        "id": "h13Fn9lQ2EL-",
        "outputId": "dce3d9e4-0fff-405c-c9cc-7e205c53a512"
      },
      "execution_count": 23,
      "outputs": [
        {
          "output_type": "execute_result",
          "data": {
            "text/plain": [
              "   num_refill_req_l3m  transport_issue_l1y  flood_impacted  Competitor_in_mkt  \\\n",
              "0                   3                    1               0                  2   \n",
              "1                   0                    0               0                  4   \n",
              "2                   1                    0               0                  4   \n",
              "3                   7                    4               0                  2   \n",
              "4                   3                    1               1                  2   \n",
              "\n",
              "   retail_shop_num  dist_from_hub  workers_num  wh_breakdown_l3m  \\\n",
              "0             4651             91         29.0                 5   \n",
              "1             6217            210         31.0                 3   \n",
              "2             4306            161         37.0                 6   \n",
              "3             6000            103         21.0                 3   \n",
              "4             4740            112         25.0                 6   \n",
              "\n",
              "   storage_issue_reported_l3m  product_wg_ton  \n",
              "0                          13           17115  \n",
              "1                           4            5074  \n",
              "2                          17           23137  \n",
              "3                          17           22115  \n",
              "4                          18           24071  "
            ],
            "text/html": [
              "\n",
              "  <div id=\"df-c6bc1194-da9d-4330-b77e-4ddb61314635\" class=\"colab-df-container\">\n",
              "    <div>\n",
              "<style scoped>\n",
              "    .dataframe tbody tr th:only-of-type {\n",
              "        vertical-align: middle;\n",
              "    }\n",
              "\n",
              "    .dataframe tbody tr th {\n",
              "        vertical-align: top;\n",
              "    }\n",
              "\n",
              "    .dataframe thead th {\n",
              "        text-align: right;\n",
              "    }\n",
              "</style>\n",
              "<table border=\"1\" class=\"dataframe\">\n",
              "  <thead>\n",
              "    <tr style=\"text-align: right;\">\n",
              "      <th></th>\n",
              "      <th>num_refill_req_l3m</th>\n",
              "      <th>transport_issue_l1y</th>\n",
              "      <th>flood_impacted</th>\n",
              "      <th>Competitor_in_mkt</th>\n",
              "      <th>retail_shop_num</th>\n",
              "      <th>dist_from_hub</th>\n",
              "      <th>workers_num</th>\n",
              "      <th>wh_breakdown_l3m</th>\n",
              "      <th>storage_issue_reported_l3m</th>\n",
              "      <th>product_wg_ton</th>\n",
              "    </tr>\n",
              "  </thead>\n",
              "  <tbody>\n",
              "    <tr>\n",
              "      <th>0</th>\n",
              "      <td>3</td>\n",
              "      <td>1</td>\n",
              "      <td>0</td>\n",
              "      <td>2</td>\n",
              "      <td>4651</td>\n",
              "      <td>91</td>\n",
              "      <td>29.0</td>\n",
              "      <td>5</td>\n",
              "      <td>13</td>\n",
              "      <td>17115</td>\n",
              "    </tr>\n",
              "    <tr>\n",
              "      <th>1</th>\n",
              "      <td>0</td>\n",
              "      <td>0</td>\n",
              "      <td>0</td>\n",
              "      <td>4</td>\n",
              "      <td>6217</td>\n",
              "      <td>210</td>\n",
              "      <td>31.0</td>\n",
              "      <td>3</td>\n",
              "      <td>4</td>\n",
              "      <td>5074</td>\n",
              "    </tr>\n",
              "    <tr>\n",
              "      <th>2</th>\n",
              "      <td>1</td>\n",
              "      <td>0</td>\n",
              "      <td>0</td>\n",
              "      <td>4</td>\n",
              "      <td>4306</td>\n",
              "      <td>161</td>\n",
              "      <td>37.0</td>\n",
              "      <td>6</td>\n",
              "      <td>17</td>\n",
              "      <td>23137</td>\n",
              "    </tr>\n",
              "    <tr>\n",
              "      <th>3</th>\n",
              "      <td>7</td>\n",
              "      <td>4</td>\n",
              "      <td>0</td>\n",
              "      <td>2</td>\n",
              "      <td>6000</td>\n",
              "      <td>103</td>\n",
              "      <td>21.0</td>\n",
              "      <td>3</td>\n",
              "      <td>17</td>\n",
              "      <td>22115</td>\n",
              "    </tr>\n",
              "    <tr>\n",
              "      <th>4</th>\n",
              "      <td>3</td>\n",
              "      <td>1</td>\n",
              "      <td>1</td>\n",
              "      <td>2</td>\n",
              "      <td>4740</td>\n",
              "      <td>112</td>\n",
              "      <td>25.0</td>\n",
              "      <td>6</td>\n",
              "      <td>18</td>\n",
              "      <td>24071</td>\n",
              "    </tr>\n",
              "  </tbody>\n",
              "</table>\n",
              "</div>\n",
              "    <div class=\"colab-df-buttons\">\n",
              "\n",
              "  <div class=\"colab-df-container\">\n",
              "    <button class=\"colab-df-convert\" onclick=\"convertToInteractive('df-c6bc1194-da9d-4330-b77e-4ddb61314635')\"\n",
              "            title=\"Convert this dataframe to an interactive table.\"\n",
              "            style=\"display:none;\">\n",
              "\n",
              "  <svg xmlns=\"http://www.w3.org/2000/svg\" height=\"24px\" viewBox=\"0 -960 960 960\">\n",
              "    <path d=\"M120-120v-720h720v720H120Zm60-500h600v-160H180v160Zm220 220h160v-160H400v160Zm0 220h160v-160H400v160ZM180-400h160v-160H180v160Zm440 0h160v-160H620v160ZM180-180h160v-160H180v160Zm440 0h160v-160H620v160Z\"/>\n",
              "  </svg>\n",
              "    </button>\n",
              "\n",
              "  <style>\n",
              "    .colab-df-container {\n",
              "      display:flex;\n",
              "      gap: 12px;\n",
              "    }\n",
              "\n",
              "    .colab-df-convert {\n",
              "      background-color: #E8F0FE;\n",
              "      border: none;\n",
              "      border-radius: 50%;\n",
              "      cursor: pointer;\n",
              "      display: none;\n",
              "      fill: #1967D2;\n",
              "      height: 32px;\n",
              "      padding: 0 0 0 0;\n",
              "      width: 32px;\n",
              "    }\n",
              "\n",
              "    .colab-df-convert:hover {\n",
              "      background-color: #E2EBFA;\n",
              "      box-shadow: 0px 1px 2px rgba(60, 64, 67, 0.3), 0px 1px 3px 1px rgba(60, 64, 67, 0.15);\n",
              "      fill: #174EA6;\n",
              "    }\n",
              "\n",
              "    .colab-df-buttons div {\n",
              "      margin-bottom: 4px;\n",
              "    }\n",
              "\n",
              "    [theme=dark] .colab-df-convert {\n",
              "      background-color: #3B4455;\n",
              "      fill: #D2E3FC;\n",
              "    }\n",
              "\n",
              "    [theme=dark] .colab-df-convert:hover {\n",
              "      background-color: #434B5C;\n",
              "      box-shadow: 0px 1px 3px 1px rgba(0, 0, 0, 0.15);\n",
              "      filter: drop-shadow(0px 1px 2px rgba(0, 0, 0, 0.3));\n",
              "      fill: #FFFFFF;\n",
              "    }\n",
              "  </style>\n",
              "\n",
              "    <script>\n",
              "      const buttonEl =\n",
              "        document.querySelector('#df-c6bc1194-da9d-4330-b77e-4ddb61314635 button.colab-df-convert');\n",
              "      buttonEl.style.display =\n",
              "        google.colab.kernel.accessAllowed ? 'block' : 'none';\n",
              "\n",
              "      async function convertToInteractive(key) {\n",
              "        const element = document.querySelector('#df-c6bc1194-da9d-4330-b77e-4ddb61314635');\n",
              "        const dataTable =\n",
              "          await google.colab.kernel.invokeFunction('convertToInteractive',\n",
              "                                                    [key], {});\n",
              "        if (!dataTable) return;\n",
              "\n",
              "        const docLinkHtml = 'Like what you see? Visit the ' +\n",
              "          '<a target=\"_blank\" href=https://colab.research.google.com/notebooks/data_table.ipynb>data table notebook</a>'\n",
              "          + ' to learn more about interactive tables.';\n",
              "        element.innerHTML = '';\n",
              "        dataTable['output_type'] = 'display_data';\n",
              "        await google.colab.output.renderOutput(dataTable, element);\n",
              "        const docLink = document.createElement('div');\n",
              "        docLink.innerHTML = docLinkHtml;\n",
              "        element.appendChild(docLink);\n",
              "      }\n",
              "    </script>\n",
              "  </div>\n",
              "\n",
              "\n",
              "<div id=\"df-c38c41e0-0c1d-4691-b4b1-90bbc7b7f8a2\">\n",
              "  <button class=\"colab-df-quickchart\" onclick=\"quickchart('df-c38c41e0-0c1d-4691-b4b1-90bbc7b7f8a2')\"\n",
              "            title=\"Suggest charts\"\n",
              "            style=\"display:none;\">\n",
              "\n",
              "<svg xmlns=\"http://www.w3.org/2000/svg\" height=\"24px\"viewBox=\"0 0 24 24\"\n",
              "     width=\"24px\">\n",
              "    <g>\n",
              "        <path d=\"M19 3H5c-1.1 0-2 .9-2 2v14c0 1.1.9 2 2 2h14c1.1 0 2-.9 2-2V5c0-1.1-.9-2-2-2zM9 17H7v-7h2v7zm4 0h-2V7h2v10zm4 0h-2v-4h2v4z\"/>\n",
              "    </g>\n",
              "</svg>\n",
              "  </button>\n",
              "\n",
              "<style>\n",
              "  .colab-df-quickchart {\n",
              "      --bg-color: #E8F0FE;\n",
              "      --fill-color: #1967D2;\n",
              "      --hover-bg-color: #E2EBFA;\n",
              "      --hover-fill-color: #174EA6;\n",
              "      --disabled-fill-color: #AAA;\n",
              "      --disabled-bg-color: #DDD;\n",
              "  }\n",
              "\n",
              "  [theme=dark] .colab-df-quickchart {\n",
              "      --bg-color: #3B4455;\n",
              "      --fill-color: #D2E3FC;\n",
              "      --hover-bg-color: #434B5C;\n",
              "      --hover-fill-color: #FFFFFF;\n",
              "      --disabled-bg-color: #3B4455;\n",
              "      --disabled-fill-color: #666;\n",
              "  }\n",
              "\n",
              "  .colab-df-quickchart {\n",
              "    background-color: var(--bg-color);\n",
              "    border: none;\n",
              "    border-radius: 50%;\n",
              "    cursor: pointer;\n",
              "    display: none;\n",
              "    fill: var(--fill-color);\n",
              "    height: 32px;\n",
              "    padding: 0;\n",
              "    width: 32px;\n",
              "  }\n",
              "\n",
              "  .colab-df-quickchart:hover {\n",
              "    background-color: var(--hover-bg-color);\n",
              "    box-shadow: 0 1px 2px rgba(60, 64, 67, 0.3), 0 1px 3px 1px rgba(60, 64, 67, 0.15);\n",
              "    fill: var(--button-hover-fill-color);\n",
              "  }\n",
              "\n",
              "  .colab-df-quickchart-complete:disabled,\n",
              "  .colab-df-quickchart-complete:disabled:hover {\n",
              "    background-color: var(--disabled-bg-color);\n",
              "    fill: var(--disabled-fill-color);\n",
              "    box-shadow: none;\n",
              "  }\n",
              "\n",
              "  .colab-df-spinner {\n",
              "    border: 2px solid var(--fill-color);\n",
              "    border-color: transparent;\n",
              "    border-bottom-color: var(--fill-color);\n",
              "    animation:\n",
              "      spin 1s steps(1) infinite;\n",
              "  }\n",
              "\n",
              "  @keyframes spin {\n",
              "    0% {\n",
              "      border-color: transparent;\n",
              "      border-bottom-color: var(--fill-color);\n",
              "      border-left-color: var(--fill-color);\n",
              "    }\n",
              "    20% {\n",
              "      border-color: transparent;\n",
              "      border-left-color: var(--fill-color);\n",
              "      border-top-color: var(--fill-color);\n",
              "    }\n",
              "    30% {\n",
              "      border-color: transparent;\n",
              "      border-left-color: var(--fill-color);\n",
              "      border-top-color: var(--fill-color);\n",
              "      border-right-color: var(--fill-color);\n",
              "    }\n",
              "    40% {\n",
              "      border-color: transparent;\n",
              "      border-right-color: var(--fill-color);\n",
              "      border-top-color: var(--fill-color);\n",
              "    }\n",
              "    60% {\n",
              "      border-color: transparent;\n",
              "      border-right-color: var(--fill-color);\n",
              "    }\n",
              "    80% {\n",
              "      border-color: transparent;\n",
              "      border-right-color: var(--fill-color);\n",
              "      border-bottom-color: var(--fill-color);\n",
              "    }\n",
              "    90% {\n",
              "      border-color: transparent;\n",
              "      border-bottom-color: var(--fill-color);\n",
              "    }\n",
              "  }\n",
              "</style>\n",
              "\n",
              "  <script>\n",
              "    async function quickchart(key) {\n",
              "      const quickchartButtonEl =\n",
              "        document.querySelector('#' + key + ' button');\n",
              "      quickchartButtonEl.disabled = true;  // To prevent multiple clicks.\n",
              "      quickchartButtonEl.classList.add('colab-df-spinner');\n",
              "      try {\n",
              "        const charts = await google.colab.kernel.invokeFunction(\n",
              "            'suggestCharts', [key], {});\n",
              "      } catch (error) {\n",
              "        console.error('Error during call to suggestCharts:', error);\n",
              "      }\n",
              "      quickchartButtonEl.classList.remove('colab-df-spinner');\n",
              "      quickchartButtonEl.classList.add('colab-df-quickchart-complete');\n",
              "    }\n",
              "    (() => {\n",
              "      let quickchartButtonEl =\n",
              "        document.querySelector('#df-c38c41e0-0c1d-4691-b4b1-90bbc7b7f8a2 button');\n",
              "      quickchartButtonEl.style.display =\n",
              "        google.colab.kernel.accessAllowed ? 'block' : 'none';\n",
              "    })();\n",
              "  </script>\n",
              "</div>\n",
              "\n",
              "    </div>\n",
              "  </div>\n"
            ]
          },
          "metadata": {},
          "execution_count": 23
        }
      ]
    },
    {
      "cell_type": "code",
      "source": [
        "#splitting\n",
        "from sklearn.model_selection import train_test_split\n",
        "x_train,x_test,y_train,y_test=train_test_split(x,y,test_size=0.3)"
      ],
      "metadata": {
        "id": "uTyHITkY2ZC_"
      },
      "execution_count": 24,
      "outputs": []
    },
    {
      "cell_type": "code",
      "source": [
        "x_train.shape"
      ],
      "metadata": {
        "colab": {
          "base_uri": "https://localhost:8080/"
        },
        "id": "zhKWLzk23jYV",
        "outputId": "b9b71b56-41d3-49cd-c172-2f555fece5c2"
      },
      "execution_count": 25,
      "outputs": [
        {
          "output_type": "execute_result",
          "data": {
            "text/plain": [
              "(11634, 9)"
            ]
          },
          "metadata": {},
          "execution_count": 25
        }
      ]
    },
    {
      "cell_type": "code",
      "source": [
        "x_test"
      ],
      "metadata": {
        "colab": {
          "base_uri": "https://localhost:8080/"
        },
        "id": "UK8TZ_qh3oUm",
        "outputId": "0f4e7b68-9ed8-4593-ee03-4fe441e78e55"
      },
      "execution_count": 26,
      "outputs": [
        {
          "output_type": "execute_result",
          "data": {
            "text/plain": [
              "array([[ 1.,  0.,  0., ..., 29.,  2., 24.],\n",
              "       [ 3.,  0.,  0., ..., 24.,  6., 25.],\n",
              "       [ 3.,  2.,  0., ..., 29.,  4., 18.],\n",
              "       ...,\n",
              "       [ 0.,  0.,  0., ..., 29.,  2., 10.],\n",
              "       [ 2.,  3.,  0., ..., 28.,  2., 21.],\n",
              "       [ 2.,  0.,  0., ..., 22.,  4., 16.]])"
            ]
          },
          "metadata": {},
          "execution_count": 26
        }
      ]
    },
    {
      "cell_type": "code",
      "source": [
        "#linear regression\n",
        "from sklearn.linear_model import LinearRegression\n",
        "regressor=LinearRegression()\n",
        "regressor.fit(x_train,y_train)"
      ],
      "metadata": {
        "colab": {
          "base_uri": "https://localhost:8080/",
          "height": 74
        },
        "id": "T-k7EQuJ379e",
        "outputId": "afc991b1-8234-403a-8102-73e70dede86c"
      },
      "execution_count": 27,
      "outputs": [
        {
          "output_type": "execute_result",
          "data": {
            "text/plain": [
              "LinearRegression()"
            ],
            "text/html": [
              "<style>#sk-container-id-1 {color: black;background-color: white;}#sk-container-id-1 pre{padding: 0;}#sk-container-id-1 div.sk-toggleable {background-color: white;}#sk-container-id-1 label.sk-toggleable__label {cursor: pointer;display: block;width: 100%;margin-bottom: 0;padding: 0.3em;box-sizing: border-box;text-align: center;}#sk-container-id-1 label.sk-toggleable__label-arrow:before {content: \"▸\";float: left;margin-right: 0.25em;color: #696969;}#sk-container-id-1 label.sk-toggleable__label-arrow:hover:before {color: black;}#sk-container-id-1 div.sk-estimator:hover label.sk-toggleable__label-arrow:before {color: black;}#sk-container-id-1 div.sk-toggleable__content {max-height: 0;max-width: 0;overflow: hidden;text-align: left;background-color: #f0f8ff;}#sk-container-id-1 div.sk-toggleable__content pre {margin: 0.2em;color: black;border-radius: 0.25em;background-color: #f0f8ff;}#sk-container-id-1 input.sk-toggleable__control:checked~div.sk-toggleable__content {max-height: 200px;max-width: 100%;overflow: auto;}#sk-container-id-1 input.sk-toggleable__control:checked~label.sk-toggleable__label-arrow:before {content: \"▾\";}#sk-container-id-1 div.sk-estimator input.sk-toggleable__control:checked~label.sk-toggleable__label {background-color: #d4ebff;}#sk-container-id-1 div.sk-label input.sk-toggleable__control:checked~label.sk-toggleable__label {background-color: #d4ebff;}#sk-container-id-1 input.sk-hidden--visually {border: 0;clip: rect(1px 1px 1px 1px);clip: rect(1px, 1px, 1px, 1px);height: 1px;margin: -1px;overflow: hidden;padding: 0;position: absolute;width: 1px;}#sk-container-id-1 div.sk-estimator {font-family: monospace;background-color: #f0f8ff;border: 1px dotted black;border-radius: 0.25em;box-sizing: border-box;margin-bottom: 0.5em;}#sk-container-id-1 div.sk-estimator:hover {background-color: #d4ebff;}#sk-container-id-1 div.sk-parallel-item::after {content: \"\";width: 100%;border-bottom: 1px solid gray;flex-grow: 1;}#sk-container-id-1 div.sk-label:hover label.sk-toggleable__label {background-color: #d4ebff;}#sk-container-id-1 div.sk-serial::before {content: \"\";position: absolute;border-left: 1px solid gray;box-sizing: border-box;top: 0;bottom: 0;left: 50%;z-index: 0;}#sk-container-id-1 div.sk-serial {display: flex;flex-direction: column;align-items: center;background-color: white;padding-right: 0.2em;padding-left: 0.2em;position: relative;}#sk-container-id-1 div.sk-item {position: relative;z-index: 1;}#sk-container-id-1 div.sk-parallel {display: flex;align-items: stretch;justify-content: center;background-color: white;position: relative;}#sk-container-id-1 div.sk-item::before, #sk-container-id-1 div.sk-parallel-item::before {content: \"\";position: absolute;border-left: 1px solid gray;box-sizing: border-box;top: 0;bottom: 0;left: 50%;z-index: -1;}#sk-container-id-1 div.sk-parallel-item {display: flex;flex-direction: column;z-index: 1;position: relative;background-color: white;}#sk-container-id-1 div.sk-parallel-item:first-child::after {align-self: flex-end;width: 50%;}#sk-container-id-1 div.sk-parallel-item:last-child::after {align-self: flex-start;width: 50%;}#sk-container-id-1 div.sk-parallel-item:only-child::after {width: 0;}#sk-container-id-1 div.sk-dashed-wrapped {border: 1px dashed gray;margin: 0 0.4em 0.5em 0.4em;box-sizing: border-box;padding-bottom: 0.4em;background-color: white;}#sk-container-id-1 div.sk-label label {font-family: monospace;font-weight: bold;display: inline-block;line-height: 1.2em;}#sk-container-id-1 div.sk-label-container {text-align: center;}#sk-container-id-1 div.sk-container {/* jupyter's `normalize.less` sets `[hidden] { display: none; }` but bootstrap.min.css set `[hidden] { display: none !important; }` so we also need the `!important` here to be able to override the default hidden behavior on the sphinx rendered scikit-learn.org. See: https://github.com/scikit-learn/scikit-learn/issues/21755 */display: inline-block !important;position: relative;}#sk-container-id-1 div.sk-text-repr-fallback {display: none;}</style><div id=\"sk-container-id-1\" class=\"sk-top-container\"><div class=\"sk-text-repr-fallback\"><pre>LinearRegression()</pre><b>In a Jupyter environment, please rerun this cell to show the HTML representation or trust the notebook. <br />On GitHub, the HTML representation is unable to render, please try loading this page with nbviewer.org.</b></div><div class=\"sk-container\" hidden><div class=\"sk-item\"><div class=\"sk-estimator sk-toggleable\"><input class=\"sk-toggleable__control sk-hidden--visually\" id=\"sk-estimator-id-1\" type=\"checkbox\" checked><label for=\"sk-estimator-id-1\" class=\"sk-toggleable__label sk-toggleable__label-arrow\">LinearRegression</label><div class=\"sk-toggleable__content\"><pre>LinearRegression()</pre></div></div></div></div></div>"
            ]
          },
          "metadata": {},
          "execution_count": 27
        }
      ]
    },
    {
      "cell_type": "code",
      "source": [
        "y_pred=regressor.predict(x_test)\n",
        "x_test"
      ],
      "metadata": {
        "colab": {
          "base_uri": "https://localhost:8080/"
        },
        "id": "PQ3pU7RS4noN",
        "outputId": "9942266e-7bd7-465a-8def-992be2009997"
      },
      "execution_count": 28,
      "outputs": [
        {
          "output_type": "execute_result",
          "data": {
            "text/plain": [
              "array([[ 1.,  0.,  0., ..., 29.,  2., 24.],\n",
              "       [ 3.,  0.,  0., ..., 24.,  6., 25.],\n",
              "       [ 3.,  2.,  0., ..., 29.,  4., 18.],\n",
              "       ...,\n",
              "       [ 0.,  0.,  0., ..., 29.,  2., 10.],\n",
              "       [ 2.,  3.,  0., ..., 28.,  2., 21.],\n",
              "       [ 2.,  0.,  0., ..., 22.,  4., 16.]])"
            ]
          },
          "metadata": {},
          "execution_count": 28
        }
      ]
    },
    {
      "cell_type": "code",
      "source": [
        "y_pred"
      ],
      "metadata": {
        "colab": {
          "base_uri": "https://localhost:8080/"
        },
        "id": "BleZuobp4_Wj",
        "outputId": "0efcca89-7f09-419d-b917-f86bcdfc14ae"
      },
      "execution_count": 29,
      "outputs": [
        {
          "output_type": "execute_result",
          "data": {
            "text/plain": [
              "array([31208.25476734, 31551.43027898, 22682.84186982, ...,\n",
              "       13515.76500202, 26497.87330349, 20701.28031199])"
            ]
          },
          "metadata": {},
          "execution_count": 29
        }
      ]
    },
    {
      "cell_type": "code",
      "source": [
        "y_test"
      ],
      "metadata": {
        "colab": {
          "base_uri": "https://localhost:8080/"
        },
        "id": "6aw9lA8A5ETF",
        "outputId": "a1060857-bdc5-4400-8cfc-11e969b35141"
      },
      "execution_count": 30,
      "outputs": [
        {
          "output_type": "execute_result",
          "data": {
            "text/plain": [
              "array([27055, 33085, 21064, ..., 13121, 27091, 19119])"
            ]
          },
          "metadata": {},
          "execution_count": 30
        }
      ]
    },
    {
      "cell_type": "code",
      "source": [
        "from sklearn.metrics import r2_score\n",
        "r2=r2_score(y_test,y_pred)"
      ],
      "metadata": {
        "id": "AqwNa52J5MAs"
      },
      "execution_count": 31,
      "outputs": []
    },
    {
      "cell_type": "code",
      "source": [
        "r2"
      ],
      "metadata": {
        "colab": {
          "base_uri": "https://localhost:8080/"
        },
        "id": "GtBxo3k66BXq",
        "outputId": "aaad8cf5-d52c-49cd-dffa-43abbdb90924"
      },
      "execution_count": 32,
      "outputs": [
        {
          "output_type": "execute_result",
          "data": {
            "text/plain": [
              "0.9755429075543642"
            ]
          },
          "metadata": {},
          "execution_count": 32
        }
      ]
    },
    {
      "cell_type": "code",
      "source": [
        "#Decision Tree Algorithm\n",
        "from sklearn.tree import DecisionTreeRegressor\n",
        "regressor = DecisionTreeRegressor(random_state = 0)\n",
        "regressor.fit(x_train,y_train)"
      ],
      "metadata": {
        "colab": {
          "base_uri": "https://localhost:8080/",
          "height": 74
        },
        "id": "c92mRIJjzfaF",
        "outputId": "38940b71-4d8c-4836-b65d-4f138c2925c2"
      },
      "execution_count": 37,
      "outputs": [
        {
          "output_type": "execute_result",
          "data": {
            "text/plain": [
              "DecisionTreeRegressor(random_state=0)"
            ],
            "text/html": [
              "<style>#sk-container-id-2 {color: black;background-color: white;}#sk-container-id-2 pre{padding: 0;}#sk-container-id-2 div.sk-toggleable {background-color: white;}#sk-container-id-2 label.sk-toggleable__label {cursor: pointer;display: block;width: 100%;margin-bottom: 0;padding: 0.3em;box-sizing: border-box;text-align: center;}#sk-container-id-2 label.sk-toggleable__label-arrow:before {content: \"▸\";float: left;margin-right: 0.25em;color: #696969;}#sk-container-id-2 label.sk-toggleable__label-arrow:hover:before {color: black;}#sk-container-id-2 div.sk-estimator:hover label.sk-toggleable__label-arrow:before {color: black;}#sk-container-id-2 div.sk-toggleable__content {max-height: 0;max-width: 0;overflow: hidden;text-align: left;background-color: #f0f8ff;}#sk-container-id-2 div.sk-toggleable__content pre {margin: 0.2em;color: black;border-radius: 0.25em;background-color: #f0f8ff;}#sk-container-id-2 input.sk-toggleable__control:checked~div.sk-toggleable__content {max-height: 200px;max-width: 100%;overflow: auto;}#sk-container-id-2 input.sk-toggleable__control:checked~label.sk-toggleable__label-arrow:before {content: \"▾\";}#sk-container-id-2 div.sk-estimator input.sk-toggleable__control:checked~label.sk-toggleable__label {background-color: #d4ebff;}#sk-container-id-2 div.sk-label input.sk-toggleable__control:checked~label.sk-toggleable__label {background-color: #d4ebff;}#sk-container-id-2 input.sk-hidden--visually {border: 0;clip: rect(1px 1px 1px 1px);clip: rect(1px, 1px, 1px, 1px);height: 1px;margin: -1px;overflow: hidden;padding: 0;position: absolute;width: 1px;}#sk-container-id-2 div.sk-estimator {font-family: monospace;background-color: #f0f8ff;border: 1px dotted black;border-radius: 0.25em;box-sizing: border-box;margin-bottom: 0.5em;}#sk-container-id-2 div.sk-estimator:hover {background-color: #d4ebff;}#sk-container-id-2 div.sk-parallel-item::after {content: \"\";width: 100%;border-bottom: 1px solid gray;flex-grow: 1;}#sk-container-id-2 div.sk-label:hover label.sk-toggleable__label {background-color: #d4ebff;}#sk-container-id-2 div.sk-serial::before {content: \"\";position: absolute;border-left: 1px solid gray;box-sizing: border-box;top: 0;bottom: 0;left: 50%;z-index: 0;}#sk-container-id-2 div.sk-serial {display: flex;flex-direction: column;align-items: center;background-color: white;padding-right: 0.2em;padding-left: 0.2em;position: relative;}#sk-container-id-2 div.sk-item {position: relative;z-index: 1;}#sk-container-id-2 div.sk-parallel {display: flex;align-items: stretch;justify-content: center;background-color: white;position: relative;}#sk-container-id-2 div.sk-item::before, #sk-container-id-2 div.sk-parallel-item::before {content: \"\";position: absolute;border-left: 1px solid gray;box-sizing: border-box;top: 0;bottom: 0;left: 50%;z-index: -1;}#sk-container-id-2 div.sk-parallel-item {display: flex;flex-direction: column;z-index: 1;position: relative;background-color: white;}#sk-container-id-2 div.sk-parallel-item:first-child::after {align-self: flex-end;width: 50%;}#sk-container-id-2 div.sk-parallel-item:last-child::after {align-self: flex-start;width: 50%;}#sk-container-id-2 div.sk-parallel-item:only-child::after {width: 0;}#sk-container-id-2 div.sk-dashed-wrapped {border: 1px dashed gray;margin: 0 0.4em 0.5em 0.4em;box-sizing: border-box;padding-bottom: 0.4em;background-color: white;}#sk-container-id-2 div.sk-label label {font-family: monospace;font-weight: bold;display: inline-block;line-height: 1.2em;}#sk-container-id-2 div.sk-label-container {text-align: center;}#sk-container-id-2 div.sk-container {/* jupyter's `normalize.less` sets `[hidden] { display: none; }` but bootstrap.min.css set `[hidden] { display: none !important; }` so we also need the `!important` here to be able to override the default hidden behavior on the sphinx rendered scikit-learn.org. See: https://github.com/scikit-learn/scikit-learn/issues/21755 */display: inline-block !important;position: relative;}#sk-container-id-2 div.sk-text-repr-fallback {display: none;}</style><div id=\"sk-container-id-2\" class=\"sk-top-container\"><div class=\"sk-text-repr-fallback\"><pre>DecisionTreeRegressor(random_state=0)</pre><b>In a Jupyter environment, please rerun this cell to show the HTML representation or trust the notebook. <br />On GitHub, the HTML representation is unable to render, please try loading this page with nbviewer.org.</b></div><div class=\"sk-container\" hidden><div class=\"sk-item\"><div class=\"sk-estimator sk-toggleable\"><input class=\"sk-toggleable__control sk-hidden--visually\" id=\"sk-estimator-id-2\" type=\"checkbox\" checked><label for=\"sk-estimator-id-2\" class=\"sk-toggleable__label sk-toggleable__label-arrow\">DecisionTreeRegressor</label><div class=\"sk-toggleable__content\"><pre>DecisionTreeRegressor(random_state=0)</pre></div></div></div></div></div>"
            ]
          },
          "metadata": {},
          "execution_count": 37
        }
      ]
    },
    {
      "cell_type": "code",
      "source": [
        "y_pred1=regressor.predict(x_test)\n",
        "x_test"
      ],
      "metadata": {
        "colab": {
          "base_uri": "https://localhost:8080/"
        },
        "id": "A9WZ8NObHspg",
        "outputId": "38b5b90b-4d14-43ff-fae9-3c320945c2d0"
      },
      "execution_count": 39,
      "outputs": [
        {
          "output_type": "execute_result",
          "data": {
            "text/plain": [
              "array([[ 1.,  0.,  0., ..., 29.,  2., 24.],\n",
              "       [ 3.,  0.,  0., ..., 24.,  6., 25.],\n",
              "       [ 3.,  2.,  0., ..., 29.,  4., 18.],\n",
              "       ...,\n",
              "       [ 0.,  0.,  0., ..., 29.,  2., 10.],\n",
              "       [ 2.,  3.,  0., ..., 28.,  2., 21.],\n",
              "       [ 2.,  0.,  0., ..., 22.,  4., 16.]])"
            ]
          },
          "metadata": {},
          "execution_count": 39
        }
      ]
    },
    {
      "cell_type": "code",
      "source": [
        "y_pred1"
      ],
      "metadata": {
        "colab": {
          "base_uri": "https://localhost:8080/"
        },
        "id": "gJwV-KWNICIa",
        "outputId": "daaef857-d1ab-4de3-cd87-a7f6ba0c68d2"
      },
      "execution_count": 40,
      "outputs": [
        {
          "output_type": "execute_result",
          "data": {
            "text/plain": [
              "array([30074., 32099., 20141., ..., 12129., 25080., 20083.])"
            ]
          },
          "metadata": {},
          "execution_count": 40
        }
      ]
    },
    {
      "cell_type": "code",
      "source": [
        "y_test"
      ],
      "metadata": {
        "colab": {
          "base_uri": "https://localhost:8080/"
        },
        "id": "hx7SWmpAIkOW",
        "outputId": "e1629177-51ea-4d58-f8cb-71b185c4d666"
      },
      "execution_count": 41,
      "outputs": [
        {
          "output_type": "execute_result",
          "data": {
            "text/plain": [
              "array([27055, 33085, 21064, ..., 13121, 27091, 19119])"
            ]
          },
          "metadata": {},
          "execution_count": 41
        }
      ]
    },
    {
      "cell_type": "code",
      "source": [
        "from sklearn.metrics import r2_score\n",
        "r2=r2_score(y_test,y_pred1)\n",
        "r2"
      ],
      "metadata": {
        "colab": {
          "base_uri": "https://localhost:8080/"
        },
        "id": "EJQo01DXItay",
        "outputId": "818e7957-4f48-4f99-c3fc-e6b7412b7121"
      },
      "execution_count": 43,
      "outputs": [
        {
          "output_type": "execute_result",
          "data": {
            "text/plain": [
              "0.967472116594239"
            ]
          },
          "metadata": {},
          "execution_count": 43
        }
      ]
    },
    {
      "cell_type": "markdown",
      "source": [
        "DATA VISUALIZATION"
      ],
      "metadata": {
        "id": "f3vexRsYztXt"
      }
    },
    {
      "cell_type": "code",
      "source": [
        "corr=new_data.corr()\n",
        "corr"
      ],
      "metadata": {
        "colab": {
          "base_uri": "https://localhost:8080/",
          "height": 383
        },
        "id": "RynF_gA9_PUY",
        "outputId": "a2592e55-d9ba-4ba8-b480-33276b7d4387"
      },
      "execution_count": 35,
      "outputs": [
        {
          "output_type": "execute_result",
          "data": {
            "text/plain": [
              "                            num_refill_req_l3m  transport_issue_l1y  \\\n",
              "num_refill_req_l3m                    1.000000             0.023180   \n",
              "transport_issue_l1y                   0.023180             1.000000   \n",
              "flood_impacted                       -0.015214            -0.009324   \n",
              "Competitor_in_mkt                     0.019149            -0.010148   \n",
              "retail_shop_num                      -0.005090             0.000400   \n",
              "dist_from_hub                        -0.000909             0.009382   \n",
              "workers_num                          -0.013595            -0.006579   \n",
              "wh_breakdown_l3m                      0.000249             0.014092   \n",
              "storage_issue_reported_l3m           -0.008875            -0.152709   \n",
              "product_wg_ton                       -0.000646            -0.183150   \n",
              "\n",
              "                            flood_impacted  Competitor_in_mkt  \\\n",
              "num_refill_req_l3m               -0.015214           0.019149   \n",
              "transport_issue_l1y              -0.009324          -0.010148   \n",
              "flood_impacted                    1.000000           0.012223   \n",
              "Competitor_in_mkt                 0.012223           1.000000   \n",
              "retail_shop_num                  -0.010186          -0.155607   \n",
              "dist_from_hub                     0.013265           0.014434   \n",
              "workers_num                       0.150915          -0.013998   \n",
              "wh_breakdown_l3m                  0.000643           0.014849   \n",
              "storage_issue_reported_l3m       -0.001571           0.011957   \n",
              "product_wg_ton                   -0.000507           0.010854   \n",
              "\n",
              "                            retail_shop_num  dist_from_hub  workers_num  \\\n",
              "num_refill_req_l3m                -0.005090      -0.000909    -0.013595   \n",
              "transport_issue_l1y                0.000400       0.009382    -0.006579   \n",
              "flood_impacted                    -0.010186       0.013265     0.150915   \n",
              "Competitor_in_mkt                 -0.155607       0.014434    -0.013998   \n",
              "retail_shop_num                    1.000000      -0.000910    -0.009738   \n",
              "dist_from_hub                     -0.000910       1.000000    -0.013109   \n",
              "workers_num                       -0.009738      -0.013109     1.000000   \n",
              "wh_breakdown_l3m                   0.000558       0.002410    -0.012428   \n",
              "storage_issue_reported_l3m        -0.008094      -0.011496    -0.006123   \n",
              "product_wg_ton                    -0.008332      -0.011380    -0.005898   \n",
              "\n",
              "                            wh_breakdown_l3m  storage_issue_reported_l3m  \\\n",
              "num_refill_req_l3m                  0.000249                   -0.008875   \n",
              "transport_issue_l1y                 0.014092                   -0.152709   \n",
              "flood_impacted                      0.000643                   -0.001571   \n",
              "Competitor_in_mkt                   0.014849                    0.011957   \n",
              "retail_shop_num                     0.000558                   -0.008094   \n",
              "dist_from_hub                       0.002410                   -0.011496   \n",
              "workers_num                        -0.012428                   -0.006123   \n",
              "wh_breakdown_l3m                    1.000000                    0.379624   \n",
              "storage_issue_reported_l3m          0.379624                    1.000000   \n",
              "product_wg_ton                      0.345474                    0.986716   \n",
              "\n",
              "                            product_wg_ton  \n",
              "num_refill_req_l3m               -0.000646  \n",
              "transport_issue_l1y              -0.183150  \n",
              "flood_impacted                   -0.000507  \n",
              "Competitor_in_mkt                 0.010854  \n",
              "retail_shop_num                  -0.008332  \n",
              "dist_from_hub                    -0.011380  \n",
              "workers_num                      -0.005898  \n",
              "wh_breakdown_l3m                  0.345474  \n",
              "storage_issue_reported_l3m        0.986716  \n",
              "product_wg_ton                    1.000000  "
            ],
            "text/html": [
              "\n",
              "  <div id=\"df-be47d21b-c4be-4ede-8fe3-eb239c200b5f\" class=\"colab-df-container\">\n",
              "    <div>\n",
              "<style scoped>\n",
              "    .dataframe tbody tr th:only-of-type {\n",
              "        vertical-align: middle;\n",
              "    }\n",
              "\n",
              "    .dataframe tbody tr th {\n",
              "        vertical-align: top;\n",
              "    }\n",
              "\n",
              "    .dataframe thead th {\n",
              "        text-align: right;\n",
              "    }\n",
              "</style>\n",
              "<table border=\"1\" class=\"dataframe\">\n",
              "  <thead>\n",
              "    <tr style=\"text-align: right;\">\n",
              "      <th></th>\n",
              "      <th>num_refill_req_l3m</th>\n",
              "      <th>transport_issue_l1y</th>\n",
              "      <th>flood_impacted</th>\n",
              "      <th>Competitor_in_mkt</th>\n",
              "      <th>retail_shop_num</th>\n",
              "      <th>dist_from_hub</th>\n",
              "      <th>workers_num</th>\n",
              "      <th>wh_breakdown_l3m</th>\n",
              "      <th>storage_issue_reported_l3m</th>\n",
              "      <th>product_wg_ton</th>\n",
              "    </tr>\n",
              "  </thead>\n",
              "  <tbody>\n",
              "    <tr>\n",
              "      <th>num_refill_req_l3m</th>\n",
              "      <td>1.000000</td>\n",
              "      <td>0.023180</td>\n",
              "      <td>-0.015214</td>\n",
              "      <td>0.019149</td>\n",
              "      <td>-0.005090</td>\n",
              "      <td>-0.000909</td>\n",
              "      <td>-0.013595</td>\n",
              "      <td>0.000249</td>\n",
              "      <td>-0.008875</td>\n",
              "      <td>-0.000646</td>\n",
              "    </tr>\n",
              "    <tr>\n",
              "      <th>transport_issue_l1y</th>\n",
              "      <td>0.023180</td>\n",
              "      <td>1.000000</td>\n",
              "      <td>-0.009324</td>\n",
              "      <td>-0.010148</td>\n",
              "      <td>0.000400</td>\n",
              "      <td>0.009382</td>\n",
              "      <td>-0.006579</td>\n",
              "      <td>0.014092</td>\n",
              "      <td>-0.152709</td>\n",
              "      <td>-0.183150</td>\n",
              "    </tr>\n",
              "    <tr>\n",
              "      <th>flood_impacted</th>\n",
              "      <td>-0.015214</td>\n",
              "      <td>-0.009324</td>\n",
              "      <td>1.000000</td>\n",
              "      <td>0.012223</td>\n",
              "      <td>-0.010186</td>\n",
              "      <td>0.013265</td>\n",
              "      <td>0.150915</td>\n",
              "      <td>0.000643</td>\n",
              "      <td>-0.001571</td>\n",
              "      <td>-0.000507</td>\n",
              "    </tr>\n",
              "    <tr>\n",
              "      <th>Competitor_in_mkt</th>\n",
              "      <td>0.019149</td>\n",
              "      <td>-0.010148</td>\n",
              "      <td>0.012223</td>\n",
              "      <td>1.000000</td>\n",
              "      <td>-0.155607</td>\n",
              "      <td>0.014434</td>\n",
              "      <td>-0.013998</td>\n",
              "      <td>0.014849</td>\n",
              "      <td>0.011957</td>\n",
              "      <td>0.010854</td>\n",
              "    </tr>\n",
              "    <tr>\n",
              "      <th>retail_shop_num</th>\n",
              "      <td>-0.005090</td>\n",
              "      <td>0.000400</td>\n",
              "      <td>-0.010186</td>\n",
              "      <td>-0.155607</td>\n",
              "      <td>1.000000</td>\n",
              "      <td>-0.000910</td>\n",
              "      <td>-0.009738</td>\n",
              "      <td>0.000558</td>\n",
              "      <td>-0.008094</td>\n",
              "      <td>-0.008332</td>\n",
              "    </tr>\n",
              "    <tr>\n",
              "      <th>dist_from_hub</th>\n",
              "      <td>-0.000909</td>\n",
              "      <td>0.009382</td>\n",
              "      <td>0.013265</td>\n",
              "      <td>0.014434</td>\n",
              "      <td>-0.000910</td>\n",
              "      <td>1.000000</td>\n",
              "      <td>-0.013109</td>\n",
              "      <td>0.002410</td>\n",
              "      <td>-0.011496</td>\n",
              "      <td>-0.011380</td>\n",
              "    </tr>\n",
              "    <tr>\n",
              "      <th>workers_num</th>\n",
              "      <td>-0.013595</td>\n",
              "      <td>-0.006579</td>\n",
              "      <td>0.150915</td>\n",
              "      <td>-0.013998</td>\n",
              "      <td>-0.009738</td>\n",
              "      <td>-0.013109</td>\n",
              "      <td>1.000000</td>\n",
              "      <td>-0.012428</td>\n",
              "      <td>-0.006123</td>\n",
              "      <td>-0.005898</td>\n",
              "    </tr>\n",
              "    <tr>\n",
              "      <th>wh_breakdown_l3m</th>\n",
              "      <td>0.000249</td>\n",
              "      <td>0.014092</td>\n",
              "      <td>0.000643</td>\n",
              "      <td>0.014849</td>\n",
              "      <td>0.000558</td>\n",
              "      <td>0.002410</td>\n",
              "      <td>-0.012428</td>\n",
              "      <td>1.000000</td>\n",
              "      <td>0.379624</td>\n",
              "      <td>0.345474</td>\n",
              "    </tr>\n",
              "    <tr>\n",
              "      <th>storage_issue_reported_l3m</th>\n",
              "      <td>-0.008875</td>\n",
              "      <td>-0.152709</td>\n",
              "      <td>-0.001571</td>\n",
              "      <td>0.011957</td>\n",
              "      <td>-0.008094</td>\n",
              "      <td>-0.011496</td>\n",
              "      <td>-0.006123</td>\n",
              "      <td>0.379624</td>\n",
              "      <td>1.000000</td>\n",
              "      <td>0.986716</td>\n",
              "    </tr>\n",
              "    <tr>\n",
              "      <th>product_wg_ton</th>\n",
              "      <td>-0.000646</td>\n",
              "      <td>-0.183150</td>\n",
              "      <td>-0.000507</td>\n",
              "      <td>0.010854</td>\n",
              "      <td>-0.008332</td>\n",
              "      <td>-0.011380</td>\n",
              "      <td>-0.005898</td>\n",
              "      <td>0.345474</td>\n",
              "      <td>0.986716</td>\n",
              "      <td>1.000000</td>\n",
              "    </tr>\n",
              "  </tbody>\n",
              "</table>\n",
              "</div>\n",
              "    <div class=\"colab-df-buttons\">\n",
              "\n",
              "  <div class=\"colab-df-container\">\n",
              "    <button class=\"colab-df-convert\" onclick=\"convertToInteractive('df-be47d21b-c4be-4ede-8fe3-eb239c200b5f')\"\n",
              "            title=\"Convert this dataframe to an interactive table.\"\n",
              "            style=\"display:none;\">\n",
              "\n",
              "  <svg xmlns=\"http://www.w3.org/2000/svg\" height=\"24px\" viewBox=\"0 -960 960 960\">\n",
              "    <path d=\"M120-120v-720h720v720H120Zm60-500h600v-160H180v160Zm220 220h160v-160H400v160Zm0 220h160v-160H400v160ZM180-400h160v-160H180v160Zm440 0h160v-160H620v160ZM180-180h160v-160H180v160Zm440 0h160v-160H620v160Z\"/>\n",
              "  </svg>\n",
              "    </button>\n",
              "\n",
              "  <style>\n",
              "    .colab-df-container {\n",
              "      display:flex;\n",
              "      gap: 12px;\n",
              "    }\n",
              "\n",
              "    .colab-df-convert {\n",
              "      background-color: #E8F0FE;\n",
              "      border: none;\n",
              "      border-radius: 50%;\n",
              "      cursor: pointer;\n",
              "      display: none;\n",
              "      fill: #1967D2;\n",
              "      height: 32px;\n",
              "      padding: 0 0 0 0;\n",
              "      width: 32px;\n",
              "    }\n",
              "\n",
              "    .colab-df-convert:hover {\n",
              "      background-color: #E2EBFA;\n",
              "      box-shadow: 0px 1px 2px rgba(60, 64, 67, 0.3), 0px 1px 3px 1px rgba(60, 64, 67, 0.15);\n",
              "      fill: #174EA6;\n",
              "    }\n",
              "\n",
              "    .colab-df-buttons div {\n",
              "      margin-bottom: 4px;\n",
              "    }\n",
              "\n",
              "    [theme=dark] .colab-df-convert {\n",
              "      background-color: #3B4455;\n",
              "      fill: #D2E3FC;\n",
              "    }\n",
              "\n",
              "    [theme=dark] .colab-df-convert:hover {\n",
              "      background-color: #434B5C;\n",
              "      box-shadow: 0px 1px 3px 1px rgba(0, 0, 0, 0.15);\n",
              "      filter: drop-shadow(0px 1px 2px rgba(0, 0, 0, 0.3));\n",
              "      fill: #FFFFFF;\n",
              "    }\n",
              "  </style>\n",
              "\n",
              "    <script>\n",
              "      const buttonEl =\n",
              "        document.querySelector('#df-be47d21b-c4be-4ede-8fe3-eb239c200b5f button.colab-df-convert');\n",
              "      buttonEl.style.display =\n",
              "        google.colab.kernel.accessAllowed ? 'block' : 'none';\n",
              "\n",
              "      async function convertToInteractive(key) {\n",
              "        const element = document.querySelector('#df-be47d21b-c4be-4ede-8fe3-eb239c200b5f');\n",
              "        const dataTable =\n",
              "          await google.colab.kernel.invokeFunction('convertToInteractive',\n",
              "                                                    [key], {});\n",
              "        if (!dataTable) return;\n",
              "\n",
              "        const docLinkHtml = 'Like what you see? Visit the ' +\n",
              "          '<a target=\"_blank\" href=https://colab.research.google.com/notebooks/data_table.ipynb>data table notebook</a>'\n",
              "          + ' to learn more about interactive tables.';\n",
              "        element.innerHTML = '';\n",
              "        dataTable['output_type'] = 'display_data';\n",
              "        await google.colab.output.renderOutput(dataTable, element);\n",
              "        const docLink = document.createElement('div');\n",
              "        docLink.innerHTML = docLinkHtml;\n",
              "        element.appendChild(docLink);\n",
              "      }\n",
              "    </script>\n",
              "  </div>\n",
              "\n",
              "\n",
              "<div id=\"df-236bd7c3-6596-487f-ba08-e5503bc2f587\">\n",
              "  <button class=\"colab-df-quickchart\" onclick=\"quickchart('df-236bd7c3-6596-487f-ba08-e5503bc2f587')\"\n",
              "            title=\"Suggest charts\"\n",
              "            style=\"display:none;\">\n",
              "\n",
              "<svg xmlns=\"http://www.w3.org/2000/svg\" height=\"24px\"viewBox=\"0 0 24 24\"\n",
              "     width=\"24px\">\n",
              "    <g>\n",
              "        <path d=\"M19 3H5c-1.1 0-2 .9-2 2v14c0 1.1.9 2 2 2h14c1.1 0 2-.9 2-2V5c0-1.1-.9-2-2-2zM9 17H7v-7h2v7zm4 0h-2V7h2v10zm4 0h-2v-4h2v4z\"/>\n",
              "    </g>\n",
              "</svg>\n",
              "  </button>\n",
              "\n",
              "<style>\n",
              "  .colab-df-quickchart {\n",
              "      --bg-color: #E8F0FE;\n",
              "      --fill-color: #1967D2;\n",
              "      --hover-bg-color: #E2EBFA;\n",
              "      --hover-fill-color: #174EA6;\n",
              "      --disabled-fill-color: #AAA;\n",
              "      --disabled-bg-color: #DDD;\n",
              "  }\n",
              "\n",
              "  [theme=dark] .colab-df-quickchart {\n",
              "      --bg-color: #3B4455;\n",
              "      --fill-color: #D2E3FC;\n",
              "      --hover-bg-color: #434B5C;\n",
              "      --hover-fill-color: #FFFFFF;\n",
              "      --disabled-bg-color: #3B4455;\n",
              "      --disabled-fill-color: #666;\n",
              "  }\n",
              "\n",
              "  .colab-df-quickchart {\n",
              "    background-color: var(--bg-color);\n",
              "    border: none;\n",
              "    border-radius: 50%;\n",
              "    cursor: pointer;\n",
              "    display: none;\n",
              "    fill: var(--fill-color);\n",
              "    height: 32px;\n",
              "    padding: 0;\n",
              "    width: 32px;\n",
              "  }\n",
              "\n",
              "  .colab-df-quickchart:hover {\n",
              "    background-color: var(--hover-bg-color);\n",
              "    box-shadow: 0 1px 2px rgba(60, 64, 67, 0.3), 0 1px 3px 1px rgba(60, 64, 67, 0.15);\n",
              "    fill: var(--button-hover-fill-color);\n",
              "  }\n",
              "\n",
              "  .colab-df-quickchart-complete:disabled,\n",
              "  .colab-df-quickchart-complete:disabled:hover {\n",
              "    background-color: var(--disabled-bg-color);\n",
              "    fill: var(--disabled-fill-color);\n",
              "    box-shadow: none;\n",
              "  }\n",
              "\n",
              "  .colab-df-spinner {\n",
              "    border: 2px solid var(--fill-color);\n",
              "    border-color: transparent;\n",
              "    border-bottom-color: var(--fill-color);\n",
              "    animation:\n",
              "      spin 1s steps(1) infinite;\n",
              "  }\n",
              "\n",
              "  @keyframes spin {\n",
              "    0% {\n",
              "      border-color: transparent;\n",
              "      border-bottom-color: var(--fill-color);\n",
              "      border-left-color: var(--fill-color);\n",
              "    }\n",
              "    20% {\n",
              "      border-color: transparent;\n",
              "      border-left-color: var(--fill-color);\n",
              "      border-top-color: var(--fill-color);\n",
              "    }\n",
              "    30% {\n",
              "      border-color: transparent;\n",
              "      border-left-color: var(--fill-color);\n",
              "      border-top-color: var(--fill-color);\n",
              "      border-right-color: var(--fill-color);\n",
              "    }\n",
              "    40% {\n",
              "      border-color: transparent;\n",
              "      border-right-color: var(--fill-color);\n",
              "      border-top-color: var(--fill-color);\n",
              "    }\n",
              "    60% {\n",
              "      border-color: transparent;\n",
              "      border-right-color: var(--fill-color);\n",
              "    }\n",
              "    80% {\n",
              "      border-color: transparent;\n",
              "      border-right-color: var(--fill-color);\n",
              "      border-bottom-color: var(--fill-color);\n",
              "    }\n",
              "    90% {\n",
              "      border-color: transparent;\n",
              "      border-bottom-color: var(--fill-color);\n",
              "    }\n",
              "  }\n",
              "</style>\n",
              "\n",
              "  <script>\n",
              "    async function quickchart(key) {\n",
              "      const quickchartButtonEl =\n",
              "        document.querySelector('#' + key + ' button');\n",
              "      quickchartButtonEl.disabled = true;  // To prevent multiple clicks.\n",
              "      quickchartButtonEl.classList.add('colab-df-spinner');\n",
              "      try {\n",
              "        const charts = await google.colab.kernel.invokeFunction(\n",
              "            'suggestCharts', [key], {});\n",
              "      } catch (error) {\n",
              "        console.error('Error during call to suggestCharts:', error);\n",
              "      }\n",
              "      quickchartButtonEl.classList.remove('colab-df-spinner');\n",
              "      quickchartButtonEl.classList.add('colab-df-quickchart-complete');\n",
              "    }\n",
              "    (() => {\n",
              "      let quickchartButtonEl =\n",
              "        document.querySelector('#df-236bd7c3-6596-487f-ba08-e5503bc2f587 button');\n",
              "      quickchartButtonEl.style.display =\n",
              "        google.colab.kernel.accessAllowed ? 'block' : 'none';\n",
              "    })();\n",
              "  </script>\n",
              "</div>\n",
              "\n",
              "  <div id=\"id_108da4cc-dbfa-4c53-aa6a-73d958924225\">\n",
              "    <style>\n",
              "      .colab-df-generate {\n",
              "        background-color: #E8F0FE;\n",
              "        border: none;\n",
              "        border-radius: 50%;\n",
              "        cursor: pointer;\n",
              "        display: none;\n",
              "        fill: #1967D2;\n",
              "        height: 32px;\n",
              "        padding: 0 0 0 0;\n",
              "        width: 32px;\n",
              "      }\n",
              "\n",
              "      .colab-df-generate:hover {\n",
              "        background-color: #E2EBFA;\n",
              "        box-shadow: 0px 1px 2px rgba(60, 64, 67, 0.3), 0px 1px 3px 1px rgba(60, 64, 67, 0.15);\n",
              "        fill: #174EA6;\n",
              "      }\n",
              "\n",
              "      [theme=dark] .colab-df-generate {\n",
              "        background-color: #3B4455;\n",
              "        fill: #D2E3FC;\n",
              "      }\n",
              "\n",
              "      [theme=dark] .colab-df-generate:hover {\n",
              "        background-color: #434B5C;\n",
              "        box-shadow: 0px 1px 3px 1px rgba(0, 0, 0, 0.15);\n",
              "        filter: drop-shadow(0px 1px 2px rgba(0, 0, 0, 0.3));\n",
              "        fill: #FFFFFF;\n",
              "      }\n",
              "    </style>\n",
              "    <button class=\"colab-df-generate\" onclick=\"generateWithVariable('corr')\"\n",
              "            title=\"Generate code using this dataframe.\"\n",
              "            style=\"display:none;\">\n",
              "\n",
              "  <svg xmlns=\"http://www.w3.org/2000/svg\" height=\"24px\"viewBox=\"0 0 24 24\"\n",
              "       width=\"24px\">\n",
              "    <path d=\"M7,19H8.4L18.45,9,17,7.55,7,17.6ZM5,21V16.75L18.45,3.32a2,2,0,0,1,2.83,0l1.4,1.43a1.91,1.91,0,0,1,.58,1.4,1.91,1.91,0,0,1-.58,1.4L9.25,21ZM18.45,9,17,7.55Zm-12,3A5.31,5.31,0,0,0,4.9,8.1,5.31,5.31,0,0,0,1,6.5,5.31,5.31,0,0,0,4.9,4.9,5.31,5.31,0,0,0,6.5,1,5.31,5.31,0,0,0,8.1,4.9,5.31,5.31,0,0,0,12,6.5,5.46,5.46,0,0,0,6.5,12Z\"/>\n",
              "  </svg>\n",
              "    </button>\n",
              "    <script>\n",
              "      (() => {\n",
              "      const buttonEl =\n",
              "        document.querySelector('#id_108da4cc-dbfa-4c53-aa6a-73d958924225 button.colab-df-generate');\n",
              "      buttonEl.style.display =\n",
              "        google.colab.kernel.accessAllowed ? 'block' : 'none';\n",
              "\n",
              "      buttonEl.onclick = () => {\n",
              "        google.colab.notebook.generateWithVariable('corr');\n",
              "      }\n",
              "      })();\n",
              "    </script>\n",
              "  </div>\n",
              "\n",
              "    </div>\n",
              "  </div>\n"
            ]
          },
          "metadata": {},
          "execution_count": 35
        }
      ]
    },
    {
      "cell_type": "code",
      "source": [
        "sns.heatmap(corr,linewidth=0.8)"
      ],
      "metadata": {
        "colab": {
          "base_uri": "https://localhost:8080/",
          "height": 634
        },
        "id": "Zv7hxE2pAPp0",
        "outputId": "32fa8f43-50c2-4f24-98b4-d798d6ccb474"
      },
      "execution_count": 36,
      "outputs": [
        {
          "output_type": "execute_result",
          "data": {
            "text/plain": [
              "<Axes: >"
            ]
          },
          "metadata": {},
          "execution_count": 36
        },
        {
          "output_type": "display_data",
          "data": {
            "text/plain": [
              "<Figure size 640x480 with 2 Axes>"
            ],
            "image/png": "[encoded data removed]"
          },
          "metadata": {}
        }
      ]
    },
    {
      "cell_type": "markdown",
      "source": [
        "Relationship between retail shop number and location type\n"
      ],
      "metadata": {
        "id": "xoyD-pKJ_P-T"
      }
    },
    {
      "cell_type": "code",
      "source": [
        "sns.barplot(x='Location_type',y='retail_shop_num', data=df)"
      ],
      "metadata": {
        "colab": {
          "base_uri": "https://localhost:8080/",
          "height": 467
        },
        "id": "RYMtpJElz4ZO",
        "outputId": "7a8a1cb8-1ce2-49b9-fcb3-29212bbc7015"
      },
      "execution_count": 33,
      "outputs": [
        {
          "output_type": "execute_result",
          "data": {
            "text/plain": [
              "<Axes: xlabel='Location_type', ylabel='retail_shop_num'>"
            ]
          },
          "metadata": {},
          "execution_count": 33
        },
        {
          "output_type": "display_data",
          "data": {
            "text/plain": [
              "<Figure size 640x480 with 1 Axes>"
            ],
            "image/png": "[encoded data removed]"
          },
          "metadata": {}
        }
      ]
    },
    {
      "cell_type": "markdown",
      "source": [
        "Relationship between wharehouse capacity and product weight tone."
      ],
      "metadata": {
        "id": "iVOROUZ-SXej"
      }
    },
    {
      "cell_type": "code",
      "source": [
        "sns.catplot(x='transport_issue_l1y',y='product_wg_ton',kind=\"boxen\",data=new_data)"
      ],
      "metadata": {
        "colab": {
          "base_uri": "https://localhost:8080/",
          "height": 523
        },
        "id": "JhLmUTXxScrn",
        "outputId": "17395cf6-c301-4be3-f0d4-7f0472347b4f"
      },
      "execution_count": 45,
      "outputs": [
        {
          "output_type": "execute_result",
          "data": {
            "text/plain": [
              "<seaborn.axisgrid.FacetGrid at 0x7e9510766c50>"
            ]
          },
          "metadata": {},
          "execution_count": 45
        },
        {
          "output_type": "display_data",
          "data": {
            "text/plain": [
              "<Figure size 500x500 with 1 Axes>"
            ],
            "image/png": "[encoded data removed]"
          },
          "metadata": {}
        }
      ]
    },
    {
      "cell_type": "markdown",
      "source": [
        "Relationship between warehouse capacity and number of workers"
      ],
      "metadata": {
        "id": "UmOIta-CTRc2"
      }
    },
    {
      "cell_type": "code",
      "source": [
        "sns.barplot(x='WH_capacity_size',y='workers_num', data=df)"
      ],
      "metadata": {
        "colab": {
          "base_uri": "https://localhost:8080/",
          "height": 467
        },
        "id": "VM72TP6-TcOq",
        "outputId": "ca549b08-d2cc-45a6-e076-fb4aa227cd04"
      },
      "execution_count": 46,
      "outputs": [
        {
          "output_type": "execute_result",
          "data": {
            "text/plain": [
              "<Axes: xlabel='WH_capacity_size', ylabel='workers_num'>"
            ]
          },
          "metadata": {},
          "execution_count": 46
        },
        {
          "output_type": "display_data",
          "data": {
            "text/plain": [
              "<Figure size 640x480 with 1 Axes>"
            ],
            "image/png": "[encoded data removed]"
          },
          "metadata": {}
        }
      ]
    },
    {
      "cell_type": "markdown",
      "source": [
        "Relationship between product transported vs flood impacted area"
      ],
      "metadata": {
        "id": "4XnZ9o-yViqQ"
      }
    },
    {
      "cell_type": "code",
      "source": [
        "sns.catplot(x='flood_impacted',y='product_wg_ton',kind='violin',data=new_data)"
      ],
      "metadata": {
        "colab": {
          "base_uri": "https://localhost:8080/",
          "height": 523
        },
        "id": "2lpZ7iopULbe",
        "outputId": "535b2b22-07b4-4871-a808-5b3a375cd76b"
      },
      "execution_count": 48,
      "outputs": [
        {
          "output_type": "execute_result",
          "data": {
            "text/plain": [
              "<seaborn.axisgrid.FacetGrid at 0x7e9514aad300>"
            ]
          },
          "metadata": {},
          "execution_count": 48
        },
        {
          "output_type": "display_data",
          "data": {
            "text/plain": [
              "<Figure size 500x500 with 1 Axes>"
            ],
            "image/png": "[encoded data removed]"
          },
          "metadata": {}
        }
      ]
    },
    {
      "cell_type": "code",
      "source": [
        "# House Age Distribution\n",
        "plt.figure(figsize=(15,5))\n",
        "sns.distplot(new_data['product_wg_ton'], color=\"orange\")\n",
        "plt.title(\"Density analysis Product Tone\")\n",
        "plt.ylabel(\"Density\")\n",
        "plt.xlabel(\"product_wg_ton\");"
      ],
      "metadata": {
        "colab": {
          "base_uri": "https://localhost:8080/",
          "height": 618
        },
        "id": "xh2HJ7xGVTWx",
        "outputId": "743073ca-73a1-4337-f36b-4f1118a94daf"
      },
      "execution_count": 52,
      "outputs": [
        {
          "output_type": "stream",
          "name": "stderr",
          "text": [
            "<ipython-input-52-52e1ffdd3c20>:3: UserWarning: \n",
            "\n",
            "`distplot` is a deprecated function and will be removed in seaborn v0.14.0.\n",
            "\n",
            "Please adapt your code to use either `displot` (a figure-level function with\n",
            "similar flexibility) or `histplot` (an axes-level function for histograms).\n",
            "\n",
            "For a guide to updating your code to use the new functions, please see\n",
            "https://gist.github.com/mwaskom/de44147ed2974457ad6372750bbe5751\n",
            "\n",
            "  sns.distplot(new_data['product_wg_ton'], color=\"orange\")\n"
          ]
        },
        {
          "output_type": "display_data",
          "data": {
            "text/plain": [
              "<Figure size 1500x500 with 1 Axes>"
            ],
            "image/png": "[encoded data removed]"
          },
          "metadata": {}
        }
      ]
    },
    {
      "cell_type": "markdown",
      "source": [
        "Relationship between Warehouse capacity and storage issues"
      ],
      "metadata": {
        "id": "JQG7fZqDce8y"
      }
    },
    {
      "cell_type": "code",
      "source": [
        "sns.catplot(x='storage_issue_reported_l3m',y='product_wg_ton', data=new_data)"
      ],
      "metadata": {
        "colab": {
          "base_uri": "https://localhost:8080/",
          "height": 518
        },
        "id": "a-PjqY2ZX4jO",
        "outputId": "3b730a28-85f9-4dec-c671-e7c653cd8f53"
      },
      "execution_count": 66,
      "outputs": [
        {
          "output_type": "execute_result",
          "data": {
            "text/plain": [
              "<seaborn.axisgrid.FacetGrid at 0x7e950dd323b0>"
            ]
          },
          "metadata": {},
          "execution_count": 66
        },
        {
          "output_type": "display_data",
          "data": {
            "text/plain": [
              "<Figure size 500x500 with 1 Axes>"
            ],
            "image/png": "[encoded data removed]"
          },
          "metadata": {}
        }
      ]
    },
    {
      "cell_type": "code",
      "source": [
        "sns.barplot(x='electric_supply',y='product_wg_ton', data=df)"
      ],
      "metadata": {
        "colab": {
          "base_uri": "https://localhost:8080/",
          "height": 467
        },
        "id": "ETu4--UIaM0a",
        "outputId": "23b165dd-71db-49c1-b4e7-1eb123a73151"
      },
      "execution_count": 61,
      "outputs": [
        {
          "output_type": "execute_result",
          "data": {
            "text/plain": [
              "<Axes: xlabel='electric_supply', ylabel='product_wg_ton'>"
            ]
          },
          "metadata": {},
          "execution_count": 61
        },
        {
          "output_type": "display_data",
          "data": {
            "text/plain": [
              "<Figure size 640x480 with 1 Axes>"
            ],
            "image/png": "[encoded data removed]"
          },
          "metadata": {}
        }
      ]
    },
    {
      "cell_type": "code",
      "source": [
        "sns.barplot(x='approved_wh_govt_certificate',y='product_wg_ton', data=df)"
      ],
      "metadata": {
        "colab": {
          "base_uri": "https://localhost:8080/",
          "height": 467
        },
        "id": "ioLXG3EebJQP",
        "outputId": "b0b2088b-a031-4365-9044-49b3f741ea30"
      },
      "execution_count": 62,
      "outputs": [
        {
          "output_type": "execute_result",
          "data": {
            "text/plain": [
              "<Axes: xlabel='approved_wh_govt_certificate', ylabel='product_wg_ton'>"
            ]
          },
          "metadata": {},
          "execution_count": 62
        },
        {
          "output_type": "display_data",
          "data": {
            "text/plain": [
              "<Figure size 640x480 with 1 Axes>"
            ],
            "image/png": "[encoded data removed]"
          },
          "metadata": {}
        }
      ]
    },
    {
      "cell_type": "code",
      "source": [
        "# Features having coorelation to price\n",
        "sns.set(color_codes=True)\n",
        "new_data.corrwith(new_data.product_wg_ton).plot.bar( figsize = (12, 5), title = \"Correlation with respect to Product Ton\", fontsize = 15, rot = 90, grid = True);"
      ],
      "metadata": {
        "colab": {
          "base_uri": "https://localhost:8080/",
          "height": 751
        },
        "id": "fdbG1a7dbXdI",
        "outputId": "8efa0930-733b-4d17-ff5a-ad059c915d2a"
      },
      "execution_count": 63,
      "outputs": [
        {
          "output_type": "display_data",
          "data": {
            "text/plain": [
              "<Figure size 1200x500 with 1 Axes>"
            ],
            "image/png": "[encoded data removed]"
          },
          "metadata": {}
        }
      ]
    }
  ]
}